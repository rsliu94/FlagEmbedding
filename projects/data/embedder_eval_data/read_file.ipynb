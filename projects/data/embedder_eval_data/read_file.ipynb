{
 "cells": [
  {
   "cell_type": "code",
   "execution_count": 13,
   "metadata": {},
   "outputs": [],
   "source": [
    "import json\n",
    "corpus_path = './corpus.jsonl'\n",
    "queries_path = './queries_val2_v1.jsonl'\n",
    "\n",
    "corpus = [json.loads(line)['text'] for line in open(corpus_path, 'r')]\n",
    "queries = [json.loads(line)['text'] for line in open(queries_path, 'r')]\n",
    "correct_ids = [json.loads(line)['correct_id'] for line in open(queries_path, 'r')]"
   ]
  },
  {
   "cell_type": "code",
   "execution_count": 14,
   "metadata": {},
   "outputs": [
    {
     "name": "stdout",
     "output_type": "stream",
     "text": [
      "['Does not know that angles in a triangle sum to 180 degrees', 'Uses dividing fractions method for multiplying fractions', 'Believes there are 100 degrees in a full turn'] \n",
      " 2587\n",
      "['simplify an algebraic fraction by factorising the numerator simplify the following, if possible: \\\\( \\\\frac{m^{2}+2 m-3}{m-3} \\\\) \\\\( m+1 \\\\)', 'simplify an algebraic fraction by factorising the numerator simplify the following, if possible: \\\\( \\\\frac{m^{2}+2 m-3}{m-3} \\\\) \\\\( m+2 \\\\)', 'simplify an algebraic fraction by factorising the numerator simplify the following, if possible: \\\\( \\\\frac{m^{2}+2 m-3}{m-3} \\\\) \\\\( m-1 \\\\)'] \n",
      " 1866\n",
      "[2142.0, 143.0, 2142.0] \n",
      " 1866\n"
     ]
    }
   ],
   "source": [
    "print(corpus[:3], '\\n', len(corpus))\n",
    "print(queries[:3], '\\n', len(queries))\n",
    "print(correct_ids[:3], '\\n', len(correct_ids))"
   ]
  },
  {
   "cell_type": "code",
   "execution_count": 22,
   "metadata": {},
   "outputs": [
    {
     "name": "stdout",
     "output_type": "stream",
     "text": [
      "dict_keys(['text', 'correct_id', 'question', 'subject_name', 'construct_name', 'correct_answer', 'wrong_answer'])\n",
      "Does not simplify\n"
     ]
    }
   ],
   "source": [
    "with open(queries_path, 'r') as f:\n",
    "    for line in f:\n",
    "        row = json.loads(line)\n",
    "        print(row.keys())\n",
    "        print(row['correct_answer'])\n",
    "        break\n"
   ]
  },
  {
   "cell_type": "code",
   "execution_count": 1,
   "metadata": {},
   "outputs": [],
   "source": [
    "import json\n",
    "\n",
    "examples = [\n",
    "    {\n",
    "        \"instruct\": \"Given a math question about divide decimals by 10 and a misconcepted incorrect answer to it, retrieve the most accurate reason for the misconception leading to the incorrect answer.\",\n",
    "        \"query\": \"\\\\( 43.2 \\\\div 10= \\\\) Incorrect answer : \\\\( 33.2 \\\\)\",\n",
    "        \"response\": \"Subtracts instead of divides\"\n",
    "    },\n",
    "    {\n",
    "        \"instruct\": \"Given a math question about know the equation of the axes and a misconcepted incorrect answer to it, retrieve the most accurate reason for the misconception leading to the incorrect answer.\",\n",
    "        \"query\": \"What is the equation of the \\\\( y \\\\) axis? Incorrect answer : \\\\( y=0 \\\\)\",\n",
    "        \"response\": \"Confuses the equations of vertical and horizontal lines\"\n",
    "    }\n",
    "]\n",
    "\n",
    "# 将数据写入JSON文件\n",
    "with open('./examples_v1.json', 'w', encoding='utf-8') as f:\n",
    "    json.dump(examples, f, indent=4)"
   ]
  },
  {
   "cell_type": "code",
   "execution_count": 3,
   "metadata": {},
   "outputs": [
    {
     "name": "stdout",
     "output_type": "stream",
     "text": [
      "[{'instruct': 'Given a math question about divide decimals by 10 and a misconcepted incorrect answer to it, retrieve the most accurate reason for the misconception leading to the incorrect answer.', 'query': '\\\\( 43.2 \\\\div 10= \\\\) Incorrect answer : \\\\( 33.2 \\\\)', 'response': 'Subtracts instead of divides'}, {'instruct': 'Given a math question about know the equation of the axes and a misconcepted incorrect answer to it, retrieve the most accurate reason for the misconception leading to the incorrect answer.', 'query': 'What is the equation of the \\\\( y \\\\) axis? Incorrect answer : \\\\( y=0 \\\\)', 'response': 'Confuses the equations of vertical and horizontal lines'}]\n"
     ]
    }
   ],
   "source": [
    "import json\n",
    "\n",
    "# 从JSON文件读取数据\n",
    "with open('examples_v1.json', 'r', encoding='utf-8') as f:\n",
    "    examples = json.load(f)\n",
    "\n",
    "# 验证导入的数据\n",
    "print(examples)"
   ]
  },
  {
   "cell_type": "code",
   "execution_count": 15,
   "metadata": {},
   "outputs": [],
   "source": [
    "examples_raw = [\n",
    "    {'instruct': 'Given a math question about divide decimals by 10 and a misconcepted incorrect answer to it, retrieve the most accurate reason for the misconception leading to the incorrect answer.',\n",
    "    'query': '\\\\( 43.2 \\\\div 10= \\\\) Incorrect answer : \\\\( 33.2 \\\\)',\n",
    "    'response': 'Subtracts instead of divides'},\n",
    "    {'instruct': 'Given a math question about know the equation of the axes and a misconcepted incorrect answer to it, retrieve the most accurate reason for the misconception leading to the incorrect answer.',\n",
    "    'query': 'What is the equation of the \\\\( y \\\\) axis? Incorrect answer : \\\\( y=0 \\\\)',\n",
    "    'response': 'Confuses the equations of vertical and horizontal lines'}\n",
    "    ]\n",
    "# 保存列表到JSON文件\n",
    "with open('examples_v1.json', 'w', encoding='utf-8') as f:\n",
    "    json.dump(examples_raw, f, indent=4)"
   ]
  },
  {
   "cell_type": "code",
   "execution_count": 16,
   "metadata": {},
   "outputs": [],
   "source": [
    "with open('examples_v1.json', 'r', encoding='utf-8') as f:\n",
    "    loaded_examples = json.load(f)"
   ]
  },
  {
   "cell_type": "code",
   "execution_count": 13,
   "metadata": {},
   "outputs": [
    {
     "data": {
      "text/plain": [
       "(9, 25)"
      ]
     },
     "execution_count": 13,
     "metadata": {},
     "output_type": "execute_result"
    }
   ],
   "source": [
    "import numpy as np\n",
    "indices = np.array([[ 143,  891, 1755,  418, 1535,   80,  167, 2398, 1610, 1256, 1593,\n",
    "        1803,  979,  885, 2078,  792, 2549, 1044,  363, 1871,  715, 2581,\n",
    "          59, 2256, 1614],\n",
    "       [ 143,  891,   80, 1755, 2398,  167, 1593,  418, 1803, 1535,  885,\n",
    "        1610, 2078, 1256,  979, 2549,  792, 2581,  363, 1871, 1044, 1614,\n",
    "        1153,  715,   59],\n",
    "       [ 143,  891, 1755, 1535, 2398,  418, 1610,   80, 1803, 1593,  885,\n",
    "         167, 2078, 2549, 1256,  979,  363, 1871, 1044,  715,  792, 1454,\n",
    "          59, 1614, 1766],\n",
    "       [1180,  618, 2464, 2174, 2137, 2189, 2421, 2432, 1071, 1851,  972,\n",
    "        2493,  591,  515, 1202,  557, 1740, 1528,  219,  465, 1513, 1370,\n",
    "         551, 1009,  872],\n",
    "       [1180,  618, 2464, 2174, 2137, 1071, 2189, 2421, 2432,  599, 2493,\n",
    "         515, 1851,  591, 1740,  557,  972, 1528,  219,   85, 1370, 1968,\n",
    "        1513,  465,  551],\n",
    "       [ 618, 1180, 2137, 2493, 2432,  591, 2464,  515, 1740, 1528, 1851,\n",
    "        1224,  972, 1348, 1370,   85, 2421, 2174, 1513,  451, 1009, 1975,\n",
    "         229,  423,  551],\n",
    "       [ 915,  686, 2050, 1065,  877, 2353, 1167,  719, 1782,  441, 1422,\n",
    "        2332,  454,  305, 1183, 1520, 1725, 1678, 2551, 1151,  157, 1788,\n",
    "         865, 1883, 1210],\n",
    "       [ 686, 1065, 2050, 2353,  305,  915,  877,  441,  704, 1183, 1167,\n",
    "        1725, 1422,  719,  682, 2551, 1883, 1151, 2332, 1782, 1678, 1547,\n",
    "         865,  790, 1520],\n",
    "       [ 996,  686,  441, 1422,  877, 1169,  454, 1520, 1065,  457, 2353,\n",
    "        1183, 2050,  246, 2514,  915,  305, 1210,  865, 1423, 1782, 2551,\n",
    "        1678, 1780,   71]])\n",
    "indices.shape"
   ]
  },
  {
   "cell_type": "code",
   "execution_count": 14,
   "metadata": {},
   "outputs": [],
   "source": [
    "ids = ['1_A', '1_B', '1_C', '3_A', '3_B', '3_D', '5_A', '5_B', '5_C']"
   ]
  },
  {
   "cell_type": "code",
   "execution_count": 17,
   "metadata": {},
   "outputs": [
    {
     "data": {
      "text/plain": [
       "(numpy.ndarray, (9, 25))"
      ]
     },
     "execution_count": 17,
     "metadata": {},
     "output_type": "execute_result"
    }
   ],
   "source": [
    "type(indices), indices.shape"
   ]
  },
  {
   "cell_type": "code",
   "execution_count": 18,
   "metadata": {},
   "outputs": [
    {
     "data": {
      "text/html": [
       "<div>\n",
       "<style scoped>\n",
       "    .dataframe tbody tr th:only-of-type {\n",
       "        vertical-align: middle;\n",
       "    }\n",
       "\n",
       "    .dataframe tbody tr th {\n",
       "        vertical-align: top;\n",
       "    }\n",
       "\n",
       "    .dataframe thead th {\n",
       "        text-align: right;\n",
       "    }\n",
       "</style>\n",
       "<table border=\"1\" class=\"dataframe\">\n",
       "  <thead>\n",
       "    <tr style=\"text-align: right;\">\n",
       "      <th></th>\n",
       "      <th>QuestionId_Answer</th>\n",
       "      <th>MisconceptionId</th>\n",
       "    </tr>\n",
       "  </thead>\n",
       "  <tbody>\n",
       "    <tr>\n",
       "      <th>0</th>\n",
       "      <td>1_A</td>\n",
       "      <td>143 891 1755 418 1535 80 167 2398 1610 1256 15...</td>\n",
       "    </tr>\n",
       "    <tr>\n",
       "      <th>1</th>\n",
       "      <td>1_B</td>\n",
       "      <td>143 891 80 1755 2398 167 1593 418 1803 1535 88...</td>\n",
       "    </tr>\n",
       "    <tr>\n",
       "      <th>2</th>\n",
       "      <td>1_C</td>\n",
       "      <td>143 891 1755 1535 2398 418 1610 80 1803 1593 8...</td>\n",
       "    </tr>\n",
       "    <tr>\n",
       "      <th>3</th>\n",
       "      <td>3_A</td>\n",
       "      <td>1180 618 2464 2174 2137 2189 2421 2432 1071 18...</td>\n",
       "    </tr>\n",
       "    <tr>\n",
       "      <th>4</th>\n",
       "      <td>3_B</td>\n",
       "      <td>1180 618 2464 2174 2137 1071 2189 2421 2432 59...</td>\n",
       "    </tr>\n",
       "    <tr>\n",
       "      <th>5</th>\n",
       "      <td>3_D</td>\n",
       "      <td>618 1180 2137 2493 2432 591 2464 515 1740 1528...</td>\n",
       "    </tr>\n",
       "    <tr>\n",
       "      <th>6</th>\n",
       "      <td>5_A</td>\n",
       "      <td>915 686 2050 1065 877 2353 1167 719 1782 441 1...</td>\n",
       "    </tr>\n",
       "    <tr>\n",
       "      <th>7</th>\n",
       "      <td>5_B</td>\n",
       "      <td>686 1065 2050 2353 305 915 877 441 704 1183 11...</td>\n",
       "    </tr>\n",
       "    <tr>\n",
       "      <th>8</th>\n",
       "      <td>5_C</td>\n",
       "      <td>996 686 441 1422 877 1169 454 1520 1065 457 23...</td>\n",
       "    </tr>\n",
       "  </tbody>\n",
       "</table>\n",
       "</div>"
      ],
      "text/plain": [
       "  QuestionId_Answer                                    MisconceptionId\n",
       "0               1_A  143 891 1755 418 1535 80 167 2398 1610 1256 15...\n",
       "1               1_B  143 891 80 1755 2398 167 1593 418 1803 1535 88...\n",
       "2               1_C  143 891 1755 1535 2398 418 1610 80 1803 1593 8...\n",
       "3               3_A  1180 618 2464 2174 2137 2189 2421 2432 1071 18...\n",
       "4               3_B  1180 618 2464 2174 2137 1071 2189 2421 2432 59...\n",
       "5               3_D  618 1180 2137 2493 2432 591 2464 515 1740 1528...\n",
       "6               5_A  915 686 2050 1065 877 2353 1167 719 1782 441 1...\n",
       "7               5_B  686 1065 2050 2353 305 915 877 441 704 1183 11...\n",
       "8               5_C  996 686 441 1422 877 1169 454 1520 1065 457 23..."
      ]
     },
     "execution_count": 18,
     "metadata": {},
     "output_type": "execute_result"
    }
   ],
   "source": [
    "import pandas as pd\n",
    "df = pd.DataFrame({\n",
    "    'QuestionId_Answer': ids,\n",
    "    'MisconceptionId': [' '.join(map(str, c)) for c in indices.tolist()]\n",
    "})\n",
    "df"
   ]
  },
  {
   "cell_type": "code",
   "execution_count": 19,
   "metadata": {},
   "outputs": [
    {
     "data": {
      "text/plain": [
       "(9, 2)"
      ]
     },
     "execution_count": 19,
     "metadata": {},
     "output_type": "execute_result"
    }
   ],
   "source": [
    "df.shape"
   ]
  },
  {
   "cell_type": "code",
   "execution_count": 13,
   "metadata": {},
   "outputs": [],
   "source": [
    "batch_raw_data = {}\n",
    "batch_raw_data['prompt'] = [\n",
    "    \"Given a math question and a misconcepted incorrect answer to it, retrieve the most accurate misconception that leads to the incorrect answer.\",\n",
    "    \"Given a math question and a misconcepted incorrect answer to it, retrieve the most accurate misconception that leads to the incorrect answer.\",\n",
    "    \"Given a math question and a misconcepted incorrect answer to it, retrieve the most accurate misconception that leads to the incorrect answer.\",\n",
    "]\n",
    "batch_raw_data['query'] = [\n",
    "    \"###Skill: Recognise and use associativity of multiplication ###Question: \\\\(\\n(-20) \\\\times(-5)=2 \\\\times(-10) \\\\times(-5)\\n\\\\)\\nIs this... ###Incorrect Answer: true because of commutativity\",\n",
    "    \"###Skill: Solve quadratic equations using balancing ###Question: A student wishes to solve the equation below.\\n\\nWhich of the following is a correct next step?\\n\\\\(\\n(d+3)^{2}-25=0\\n\\\\)\\n\\nStep \\\\( 1 \\\\)\\n\\\\(\\n(d+3)^{2}=25\\n\\\\) ###Incorrect Answer: \\\\( d+3=5 \\\\)\",\n",
    "    \"###Skill: Convert from improper fractions to mixed number fractions ###Question: Convert this into a mixed number fraction:\\n\\\\(\\n\\\\frac{13}{5}\\n\\\\) ###Incorrect Answer: \\\\( 1 \\\\frac{3}{5} \\\\)\"\n",
    "]\n",
    "batch_raw_data['pos'] = [\n",
    "    [\"Only considers the positive solution when calculating a square root\"],\n",
    "    [\"When asked for factors of an algebraic expression, thinks any part of a term will be a factor\"],\n",
    "    [\"Adds the index to the number\"],\n",
    "]\n",
    "batch_raw_data['neg'] = [\n",
    "    [\"When adding fractions, changes to common denominator but leaves numerators the same\", \"When dividing by a fraction, switches to multiplication without also using the reciprocal\", \"Does not find a common denominator when adding/subtracting fractions\", \"Believes the numerator is the top of a fraction \", \"Believes that when converting ratio to fractions, the denominator is the product of the parts of the ratio\", \"When asked to subtract a fraction from a unit, removes the unit value from the denominator\", \"Believes they must change the direction of the inequality when dividing through by a positive number.\", \"Converts a fraction to a decimal by placing a decimal point between the numerator and denominator\", \"Converts a fraction to a decimal by using only the numerator after the decimal point\", \"Believes when multiplying fractions you cross multiply top left and bottom right for numerator, and the other diagonal for denominator\", \"When asked to multiply fractions, uses the method for adding instead\", \"Misinterprets the order of division in worded problems\", \"Writes fraction rather than fraction of amount\", \"When adding an integer to a fraction, thinks you add the integer to the numerator\", \"Gives a fraction when asked for a decimal\"],\n",
    "    [\"When adding fractions, changes to common denominator but leaves numerators the same\", \"When dividing by a fraction, switches to multiplication without also using the reciprocal\", \"Does not find a common denominator when adding/subtracting fractions\", \"Believes the numerator is the top of a fraction \", \"Believes that when converting ratio to fractions, the denominator is the product of the parts of the ratio\", \"When asked to subtract a fraction from a unit, removes the unit value from the denominator\", \"Believes they must change the direction of the inequality when dividing through by a positive number.\", \"Converts a fraction to a decimal by placing a decimal point between the numerator and denominator\", \"Converts a fraction to a decimal by using only the numerator after the decimal point\", \"Believes when multiplying fractions you cross multiply top left and bottom right for numerator, and the other diagonal for denominator\", \"When asked to multiply fractions, uses the method for adding instead\", \"Misinterprets the order of division in worded problems\", \"Writes fraction rather than fraction of amount\", \"When adding an integer to a fraction, thinks you add the integer to the numerator\", \"Gives a fraction when asked for a decimal\"],\n",
    "    [\"When adding fractions, changes to common denominator but leaves numerators the same\", \"When dividing by a fraction, switches to multiplication without also using the reciprocal\", \"Does not find a common denominator when adding/subtracting fractions\", \"Believes the numerator is the top of a fraction \", \"Believes that when converting ratio to fractions, the denominator is the product of the parts of the ratio\", \"When asked to subtract a fraction from a unit, removes the unit value from the denominator\", \"Believes they must change the direction of the inequality when dividing through by a positive number.\", \"Converts a fraction to a decimal by placing a decimal point between the numerator and denominator\", \"Converts a fraction to a decimal by using only the numerator after the decimal point\", \"Believes when multiplying fractions you cross multiply top left and bottom right for numerator, and the other diagonal for denominator\", \"When asked to multiply fractions, uses the method for adding instead\", \"Misinterprets the order of division in worded problems\", \"Writes fraction rather than fraction of amount\", \"When adding an integer to a fraction, thinks you add the integer to the numerator\", \"Gives a fraction when asked for a decimal\"],\n",
    "]"
   ]
  },
  {
   "cell_type": "code",
   "execution_count": 14,
   "metadata": {},
   "outputs": [],
   "source": [
    "import random\n",
    "queries = []\n",
    "for i in range(len(batch_raw_data['query'])):\n",
    "\n",
    "    queries.append(\n",
    "        \"{}{}\".format(\n",
    "            batch_raw_data['prompt'][i],\n",
    "            batch_raw_data['query'][i]\n",
    "        )\n",
    "    )\n",
    "    tmp_passages = []\n",
    "    pos_idx = random.choice(list(range(len(batch_raw_data['pos'][i]))))\n",
    "    pos = batch_raw_data['pos'][i][pos_idx]\n",
    "\n",
    "    neg_all_idx = list(range(len(batch_raw_data['neg'][i])))\n",
    "    \n",
    "    break"
   ]
  },
  {
   "cell_type": "code",
   "execution_count": 16,
   "metadata": {},
   "outputs": [
    {
     "data": {
      "text/plain": [
       "'Only considers the positive solution when calculating a square root'"
      ]
     },
     "execution_count": 16,
     "metadata": {},
     "output_type": "execute_result"
    }
   ],
   "source": [
    "pos"
   ]
  },
  {
   "cell_type": "code",
   "execution_count": 8,
   "metadata": {},
   "outputs": [
    {
     "data": {
      "text/plain": [
       "[0,\n",
       " 1,\n",
       " 2,\n",
       " 3,\n",
       " 4,\n",
       " 5,\n",
       " 6,\n",
       " 7,\n",
       " 8,\n",
       " 9,\n",
       " 10,\n",
       " 11,\n",
       " 12,\n",
       " 13,\n",
       " 14,\n",
       " 15,\n",
       " 16,\n",
       " 17,\n",
       " 18,\n",
       " 19,\n",
       " 20,\n",
       " 21,\n",
       " 22,\n",
       " 23,\n",
       " 24,\n",
       " 25,\n",
       " 26,\n",
       " 27,\n",
       " 28,\n",
       " 29,\n",
       " 30,\n",
       " 31,\n",
       " 32,\n",
       " 33,\n",
       " 34,\n",
       " 35,\n",
       " 36,\n",
       " 37,\n",
       " 38,\n",
       " 39,\n",
       " 40,\n",
       " 41,\n",
       " 42,\n",
       " 43,\n",
       " 44,\n",
       " 45,\n",
       " 46,\n",
       " 47,\n",
       " 48,\n",
       " 49,\n",
       " 50,\n",
       " 51,\n",
       " 52,\n",
       " 53,\n",
       " 54,\n",
       " 55,\n",
       " 56,\n",
       " 57,\n",
       " 58,\n",
       " 59,\n",
       " 60,\n",
       " 61,\n",
       " 62,\n",
       " 63,\n",
       " 64,\n",
       " 65,\n",
       " 66]"
      ]
     },
     "execution_count": 8,
     "metadata": {},
     "output_type": "execute_result"
    }
   ],
   "source": [
    "list(range(len(batch_raw_data['pos'][i])))"
   ]
  }
 ],
 "metadata": {
  "kernelspec": {
   "display_name": "kaggle_nlp",
   "language": "python",
   "name": "python3"
  },
  "language_info": {
   "codemirror_mode": {
    "name": "ipython",
    "version": 3
   },
   "file_extension": ".py",
   "mimetype": "text/x-python",
   "name": "python",
   "nbconvert_exporter": "python",
   "pygments_lexer": "ipython3",
   "version": "3.10.15"
  }
 },
 "nbformat": 4,
 "nbformat_minor": 2
}
