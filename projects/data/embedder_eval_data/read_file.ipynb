{
 "cells": [
  {
   "cell_type": "code",
   "execution_count": 13,
   "metadata": {},
   "outputs": [],
   "source": [
    "import json\n",
    "corpus_path = './corpus.jsonl'\n",
    "queries_path = './queries_v2.jsonl'\n",
    "\n",
    "corpus = [json.loads(line)['text'] for line in open(corpus_path, 'r')]\n",
    "queries = [json.loads(line)['text'] for line in open(queries_path, 'r')]\n",
    "correct_ids = [json.loads(line)['correct_id'] for line in open(queries_path, 'r')]"
   ]
  },
  {
   "cell_type": "code",
   "execution_count": 14,
   "metadata": {},
   "outputs": [
    {
     "name": "stdout",
     "output_type": "stream",
     "text": [
      "['Does not know that angles in a triangle sum to 180 degrees', 'Uses dividing fractions method for multiplying fractions', 'Believes there are 100 degrees in a full turn'] \n",
      " 2587\n",
      "['simplify an algebraic fraction by factorising the numerator simplify the following, if possible: \\\\( \\\\frac{m^{2}+2 m-3}{m-3} \\\\) \\\\( m+1 \\\\)', 'simplify an algebraic fraction by factorising the numerator simplify the following, if possible: \\\\( \\\\frac{m^{2}+2 m-3}{m-3} \\\\) \\\\( m+2 \\\\)', 'simplify an algebraic fraction by factorising the numerator simplify the following, if possible: \\\\( \\\\frac{m^{2}+2 m-3}{m-3} \\\\) \\\\( m-1 \\\\)'] \n",
      " 1866\n",
      "[2142.0, 143.0, 2142.0] \n",
      " 1866\n"
     ]
    }
   ],
   "source": [
    "print(corpus[:3], '\\n', len(corpus))\n",
    "print(queries[:3], '\\n', len(queries))\n",
    "print(correct_ids[:3], '\\n', len(correct_ids))"
   ]
  },
  {
   "cell_type": "code",
   "execution_count": 22,
   "metadata": {},
   "outputs": [
    {
     "name": "stdout",
     "output_type": "stream",
     "text": [
      "dict_keys(['text', 'correct_id', 'question', 'subject_name', 'construct_name', 'correct_answer', 'wrong_answer'])\n",
      "Does not simplify\n"
     ]
    }
   ],
   "source": [
    "with open(queries_path, 'r') as f:\n",
    "    for line in f:\n",
    "        row = json.loads(line)\n",
    "        print(row.keys())\n",
    "        print(row['correct_answer'])\n",
    "        break\n"
   ]
  }
 ],
 "metadata": {
  "kernelspec": {
   "display_name": "kaggle_nlp",
   "language": "python",
   "name": "python3"
  },
  "language_info": {
   "codemirror_mode": {
    "name": "ipython",
    "version": 3
   },
   "file_extension": ".py",
   "mimetype": "text/x-python",
   "name": "python",
   "nbconvert_exporter": "python",
   "pygments_lexer": "ipython3",
   "version": "3.10.15"
  }
 },
 "nbformat": 4,
 "nbformat_minor": 2
}
