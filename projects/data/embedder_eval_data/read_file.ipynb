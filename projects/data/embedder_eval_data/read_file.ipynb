{
 "cells": [
  {
   "cell_type": "code",
   "execution_count": 13,
   "metadata": {},
   "outputs": [],
   "source": [
    "import json\n",
    "corpus_path = './corpus.jsonl'\n",
    "queries_path = './queries_v2.jsonl'\n",
    "\n",
    "corpus = [json.loads(line)['text'] for line in open(corpus_path, 'r')]\n",
    "queries = [json.loads(line)['text'] for line in open(queries_path, 'r')]\n",
    "correct_ids = [json.loads(line)['correct_id'] for line in open(queries_path, 'r')]"
   ]
  },
  {
   "cell_type": "code",
   "execution_count": 14,
   "metadata": {},
   "outputs": [
    {
     "name": "stdout",
     "output_type": "stream",
     "text": [
      "['Does not know that angles in a triangle sum to 180 degrees', 'Uses dividing fractions method for multiplying fractions', 'Believes there are 100 degrees in a full turn'] \n",
      " 2587\n",
      "['simplify an algebraic fraction by factorising the numerator simplify the following, if possible: \\\\( \\\\frac{m^{2}+2 m-3}{m-3} \\\\) \\\\( m+1 \\\\)', 'simplify an algebraic fraction by factorising the numerator simplify the following, if possible: \\\\( \\\\frac{m^{2}+2 m-3}{m-3} \\\\) \\\\( m+2 \\\\)', 'simplify an algebraic fraction by factorising the numerator simplify the following, if possible: \\\\( \\\\frac{m^{2}+2 m-3}{m-3} \\\\) \\\\( m-1 \\\\)'] \n",
      " 1866\n",
      "[2142.0, 143.0, 2142.0] \n",
      " 1866\n"
     ]
    }
   ],
   "source": [
    "print(corpus[:3], '\\n', len(corpus))\n",
    "print(queries[:3], '\\n', len(queries))\n",
    "print(correct_ids[:3], '\\n', len(correct_ids))"
   ]
  },
  {
   "cell_type": "code",
   "execution_count": 22,
   "metadata": {},
   "outputs": [
    {
     "name": "stdout",
     "output_type": "stream",
     "text": [
      "dict_keys(['text', 'correct_id', 'question', 'subject_name', 'construct_name', 'correct_answer', 'wrong_answer'])\n",
      "Does not simplify\n"
     ]
    }
   ],
   "source": [
    "with open(queries_path, 'r') as f:\n",
    "    for line in f:\n",
    "        row = json.loads(line)\n",
    "        print(row.keys())\n",
    "        print(row['correct_answer'])\n",
    "        break\n"
   ]
  },
  {
   "cell_type": "code",
   "execution_count": 1,
   "metadata": {},
   "outputs": [],
   "source": [
    "import json\n",
    "\n",
    "examples = [\n",
    "    {\n",
    "        \"instruct\": \"Given a math question about divide decimals by 10 and a misconcepted incorrect answer to it, retrieve the most accurate reason for the misconception leading to the incorrect answer.\",\n",
    "        \"query\": \"\\\\( 43.2 \\\\div 10= \\\\) Incorrect answer : \\\\( 33.2 \\\\)\",\n",
    "        \"response\": \"Subtracts instead of divides\"\n",
    "    },\n",
    "    {\n",
    "        \"instruct\": \"Given a math question about know the equation of the axes and a misconcepted incorrect answer to it, retrieve the most accurate reason for the misconception leading to the incorrect answer.\",\n",
    "        \"query\": \"What is the equation of the \\\\( y \\\\) axis? Incorrect answer : \\\\( y=0 \\\\)\",\n",
    "        \"response\": \"Confuses the equations of vertical and horizontal lines\"\n",
    "    }\n",
    "]\n",
    "\n",
    "# 将数据写入JSON文件\n",
    "with open('./examples_v1.json', 'w', encoding='utf-8') as f:\n",
    "    json.dump(examples, f, indent=4)"
   ]
  },
  {
   "cell_type": "code",
   "execution_count": 3,
   "metadata": {},
   "outputs": [
    {
     "name": "stdout",
     "output_type": "stream",
     "text": [
      "[{'instruct': 'Given a math question about divide decimals by 10 and a misconcepted incorrect answer to it, retrieve the most accurate reason for the misconception leading to the incorrect answer.', 'query': '\\\\( 43.2 \\\\div 10= \\\\) Incorrect answer : \\\\( 33.2 \\\\)', 'response': 'Subtracts instead of divides'}, {'instruct': 'Given a math question about know the equation of the axes and a misconcepted incorrect answer to it, retrieve the most accurate reason for the misconception leading to the incorrect answer.', 'query': 'What is the equation of the \\\\( y \\\\) axis? Incorrect answer : \\\\( y=0 \\\\)', 'response': 'Confuses the equations of vertical and horizontal lines'}]\n"
     ]
    }
   ],
   "source": [
    "import json\n",
    "\n",
    "# 从JSON文件读取数据\n",
    "with open('examples_v1.json', 'r', encoding='utf-8') as f:\n",
    "    examples = json.load(f)\n",
    "\n",
    "# 验证导入的数据\n",
    "print(examples)"
   ]
  },
  {
   "cell_type": "code",
   "execution_count": 15,
   "metadata": {},
   "outputs": [],
   "source": [
    "examples_raw = [\n",
    "    {'instruct': 'Given a math question about divide decimals by 10 and a misconcepted incorrect answer to it, retrieve the most accurate reason for the misconception leading to the incorrect answer.',\n",
    "    'query': '\\\\( 43.2 \\\\div 10= \\\\) Incorrect answer : \\\\( 33.2 \\\\)',\n",
    "    'response': 'Subtracts instead of divides'},\n",
    "    {'instruct': 'Given a math question about know the equation of the axes and a misconcepted incorrect answer to it, retrieve the most accurate reason for the misconception leading to the incorrect answer.',\n",
    "    'query': 'What is the equation of the \\\\( y \\\\) axis? Incorrect answer : \\\\( y=0 \\\\)',\n",
    "    'response': 'Confuses the equations of vertical and horizontal lines'}\n",
    "    ]\n",
    "# 保存列表到JSON文件\n",
    "with open('examples_v1.json', 'w', encoding='utf-8') as f:\n",
    "    json.dump(examples_raw, f, indent=4)"
   ]
  },
  {
   "cell_type": "code",
   "execution_count": 16,
   "metadata": {},
   "outputs": [],
   "source": [
    "with open('examples_v1.json', 'r', encoding='utf-8') as f:\n",
    "    loaded_examples = json.load(f)"
   ]
  },
  {
   "cell_type": "code",
   "execution_count": 18,
   "metadata": {},
   "outputs": [
    {
     "data": {
      "text/plain": [
       "{'instruct': 'Given a math question about divide decimals by 10 and a misconcepted incorrect answer to it, retrieve the most accurate reason for the misconception leading to the incorrect answer.',\n",
       " 'query': '\\\\( 43.2 \\\\div 10= \\\\) Incorrect answer : \\\\( 33.2 \\\\)',\n",
       " 'response': 'Subtracts instead of divides'}"
      ]
     },
     "execution_count": 18,
     "metadata": {},
     "output_type": "execute_result"
    }
   ],
   "source": [
    "loaded_examples[0]"
   ]
  }
 ],
 "metadata": {
  "kernelspec": {
   "display_name": "kaggle_nlp",
   "language": "python",
   "name": "python3"
  },
  "language_info": {
   "codemirror_mode": {
    "name": "ipython",
    "version": 3
   },
   "file_extension": ".py",
   "mimetype": "text/x-python",
   "name": "python",
   "nbconvert_exporter": "python",
   "pygments_lexer": "ipython3",
   "version": "3.10.15"
  }
 },
 "nbformat": 4,
 "nbformat_minor": 2
}
