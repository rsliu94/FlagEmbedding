{
 "cells": [
  {
   "cell_type": "code",
   "execution_count": 13,
   "metadata": {},
   "outputs": [],
   "source": [
    "import json\n",
    "corpus_path = './corpus.jsonl'\n",
    "queries_path = './queries_val2_v1.jsonl'\n",
    "\n",
    "corpus = [json.loads(line)['text'] for line in open(corpus_path, 'r')]\n",
    "queries = [json.loads(line)['text'] for line in open(queries_path, 'r')]\n",
    "correct_ids = [json.loads(line)['correct_id'] for line in open(queries_path, 'r')]"
   ]
  },
  {
   "cell_type": "code",
   "execution_count": 14,
   "metadata": {},
   "outputs": [
    {
     "name": "stdout",
     "output_type": "stream",
     "text": [
      "['Does not know that angles in a triangle sum to 180 degrees', 'Uses dividing fractions method for multiplying fractions', 'Believes there are 100 degrees in a full turn'] \n",
      " 2587\n",
      "['simplify an algebraic fraction by factorising the numerator simplify the following, if possible: \\\\( \\\\frac{m^{2}+2 m-3}{m-3} \\\\) \\\\( m+1 \\\\)', 'simplify an algebraic fraction by factorising the numerator simplify the following, if possible: \\\\( \\\\frac{m^{2}+2 m-3}{m-3} \\\\) \\\\( m+2 \\\\)', 'simplify an algebraic fraction by factorising the numerator simplify the following, if possible: \\\\( \\\\frac{m^{2}+2 m-3}{m-3} \\\\) \\\\( m-1 \\\\)'] \n",
      " 1866\n",
      "[2142.0, 143.0, 2142.0] \n",
      " 1866\n"
     ]
    }
   ],
   "source": [
    "print(corpus[:3], '\\n', len(corpus))\n",
    "print(queries[:3], '\\n', len(queries))\n",
    "print(correct_ids[:3], '\\n', len(correct_ids))"
   ]
  },
  {
   "cell_type": "code",
   "execution_count": 22,
   "metadata": {},
   "outputs": [
    {
     "name": "stdout",
     "output_type": "stream",
     "text": [
      "dict_keys(['text', 'correct_id', 'question', 'subject_name', 'construct_name', 'correct_answer', 'wrong_answer'])\n",
      "Does not simplify\n"
     ]
    }
   ],
   "source": [
    "with open(queries_path, 'r') as f:\n",
    "    for line in f:\n",
    "        row = json.loads(line)\n",
    "        print(row.keys())\n",
    "        print(row['correct_answer'])\n",
    "        break\n"
   ]
  },
  {
   "cell_type": "code",
   "execution_count": 1,
   "metadata": {},
   "outputs": [],
   "source": [
    "import json\n",
    "\n",
    "examples = [\n",
    "    {\n",
    "        \"instruct\": \"Given a math question about divide decimals by 10 and a misconcepted incorrect answer to it, retrieve the most accurate reason for the misconception leading to the incorrect answer.\",\n",
    "        \"query\": \"\\\\( 43.2 \\\\div 10= \\\\) Incorrect answer : \\\\( 33.2 \\\\)\",\n",
    "        \"response\": \"Subtracts instead of divides\"\n",
    "    },\n",
    "    {\n",
    "        \"instruct\": \"Given a math question about know the equation of the axes and a misconcepted incorrect answer to it, retrieve the most accurate reason for the misconception leading to the incorrect answer.\",\n",
    "        \"query\": \"What is the equation of the \\\\( y \\\\) axis? Incorrect answer : \\\\( y=0 \\\\)\",\n",
    "        \"response\": \"Confuses the equations of vertical and horizontal lines\"\n",
    "    }\n",
    "]\n",
    "\n",
    "# 将数据写入JSON文件\n",
    "with open('./examples_v1.json', 'w', encoding='utf-8') as f:\n",
    "    json.dump(examples, f, indent=4)"
   ]
  },
  {
   "cell_type": "code",
   "execution_count": 3,
   "metadata": {},
   "outputs": [
    {
     "name": "stdout",
     "output_type": "stream",
     "text": [
      "[{'instruct': 'Given a math question about divide decimals by 10 and a misconcepted incorrect answer to it, retrieve the most accurate reason for the misconception leading to the incorrect answer.', 'query': '\\\\( 43.2 \\\\div 10= \\\\) Incorrect answer : \\\\( 33.2 \\\\)', 'response': 'Subtracts instead of divides'}, {'instruct': 'Given a math question about know the equation of the axes and a misconcepted incorrect answer to it, retrieve the most accurate reason for the misconception leading to the incorrect answer.', 'query': 'What is the equation of the \\\\( y \\\\) axis? Incorrect answer : \\\\( y=0 \\\\)', 'response': 'Confuses the equations of vertical and horizontal lines'}]\n"
     ]
    }
   ],
   "source": [
    "import json\n",
    "\n",
    "# 从JSON文件读取数据\n",
    "with open('examples_v1.json', 'r', encoding='utf-8') as f:\n",
    "    examples = json.load(f)\n",
    "\n",
    "# 验证导入的数据\n",
    "print(examples)"
   ]
  },
  {
   "cell_type": "code",
   "execution_count": 15,
   "metadata": {},
   "outputs": [],
   "source": [
    "examples_raw = [\n",
    "    {'instruct': 'Given a math question about divide decimals by 10 and a misconcepted incorrect answer to it, retrieve the most accurate reason for the misconception leading to the incorrect answer.',\n",
    "    'query': '\\\\( 43.2 \\\\div 10= \\\\) Incorrect answer : \\\\( 33.2 \\\\)',\n",
    "    'response': 'Subtracts instead of divides'},\n",
    "    {'instruct': 'Given a math question about know the equation of the axes and a misconcepted incorrect answer to it, retrieve the most accurate reason for the misconception leading to the incorrect answer.',\n",
    "    'query': 'What is the equation of the \\\\( y \\\\) axis? Incorrect answer : \\\\( y=0 \\\\)',\n",
    "    'response': 'Confuses the equations of vertical and horizontal lines'}\n",
    "    ]\n",
    "# 保存列表到JSON文件\n",
    "with open('examples_v1.json', 'w', encoding='utf-8') as f:\n",
    "    json.dump(examples_raw, f, indent=4)"
   ]
  },
  {
   "cell_type": "code",
   "execution_count": 16,
   "metadata": {},
   "outputs": [],
   "source": [
    "with open('examples_v1.json', 'r', encoding='utf-8') as f:\n",
    "    loaded_examples = json.load(f)"
   ]
  },
  {
   "cell_type": "code",
   "execution_count": 13,
   "metadata": {},
   "outputs": [
    {
     "data": {
      "text/plain": [
       "(9, 25)"
      ]
     },
     "execution_count": 13,
     "metadata": {},
     "output_type": "execute_result"
    }
   ],
   "source": [
    "import numpy as np\n",
    "indices = np.array([[ 143,  891, 1755,  418, 1535,   80,  167, 2398, 1610, 1256, 1593,\n",
    "        1803,  979,  885, 2078,  792, 2549, 1044,  363, 1871,  715, 2581,\n",
    "          59, 2256, 1614],\n",
    "       [ 143,  891,   80, 1755, 2398,  167, 1593,  418, 1803, 1535,  885,\n",
    "        1610, 2078, 1256,  979, 2549,  792, 2581,  363, 1871, 1044, 1614,\n",
    "        1153,  715,   59],\n",
    "       [ 143,  891, 1755, 1535, 2398,  418, 1610,   80, 1803, 1593,  885,\n",
    "         167, 2078, 2549, 1256,  979,  363, 1871, 1044,  715,  792, 1454,\n",
    "          59, 1614, 1766],\n",
    "       [1180,  618, 2464, 2174, 2137, 2189, 2421, 2432, 1071, 1851,  972,\n",
    "        2493,  591,  515, 1202,  557, 1740, 1528,  219,  465, 1513, 1370,\n",
    "         551, 1009,  872],\n",
    "       [1180,  618, 2464, 2174, 2137, 1071, 2189, 2421, 2432,  599, 2493,\n",
    "         515, 1851,  591, 1740,  557,  972, 1528,  219,   85, 1370, 1968,\n",
    "        1513,  465,  551],\n",
    "       [ 618, 1180, 2137, 2493, 2432,  591, 2464,  515, 1740, 1528, 1851,\n",
    "        1224,  972, 1348, 1370,   85, 2421, 2174, 1513,  451, 1009, 1975,\n",
    "         229,  423,  551],\n",
    "       [ 915,  686, 2050, 1065,  877, 2353, 1167,  719, 1782,  441, 1422,\n",
    "        2332,  454,  305, 1183, 1520, 1725, 1678, 2551, 1151,  157, 1788,\n",
    "         865, 1883, 1210],\n",
    "       [ 686, 1065, 2050, 2353,  305,  915,  877,  441,  704, 1183, 1167,\n",
    "        1725, 1422,  719,  682, 2551, 1883, 1151, 2332, 1782, 1678, 1547,\n",
    "         865,  790, 1520],\n",
    "       [ 996,  686,  441, 1422,  877, 1169,  454, 1520, 1065,  457, 2353,\n",
    "        1183, 2050,  246, 2514,  915,  305, 1210,  865, 1423, 1782, 2551,\n",
    "        1678, 1780,   71]])\n",
    "indices.shape"
   ]
  },
  {
   "cell_type": "code",
   "execution_count": 14,
   "metadata": {},
   "outputs": [],
   "source": [
    "ids = ['1_A', '1_B', '1_C', '3_A', '3_B', '3_D', '5_A', '5_B', '5_C']"
   ]
  },
  {
   "cell_type": "code",
   "execution_count": 17,
   "metadata": {},
   "outputs": [
    {
     "data": {
      "text/plain": [
       "(numpy.ndarray, (9, 25))"
      ]
     },
     "execution_count": 17,
     "metadata": {},
     "output_type": "execute_result"
    }
   ],
   "source": [
    "type(indices), indices.shape"
   ]
  },
  {
   "cell_type": "code",
   "execution_count": 18,
   "metadata": {},
   "outputs": [
    {
     "data": {
      "text/html": [
       "<div>\n",
       "<style scoped>\n",
       "    .dataframe tbody tr th:only-of-type {\n",
       "        vertical-align: middle;\n",
       "    }\n",
       "\n",
       "    .dataframe tbody tr th {\n",
       "        vertical-align: top;\n",
       "    }\n",
       "\n",
       "    .dataframe thead th {\n",
       "        text-align: right;\n",
       "    }\n",
       "</style>\n",
       "<table border=\"1\" class=\"dataframe\">\n",
       "  <thead>\n",
       "    <tr style=\"text-align: right;\">\n",
       "      <th></th>\n",
       "      <th>QuestionId_Answer</th>\n",
       "      <th>MisconceptionId</th>\n",
       "    </tr>\n",
       "  </thead>\n",
       "  <tbody>\n",
       "    <tr>\n",
       "      <th>0</th>\n",
       "      <td>1_A</td>\n",
       "      <td>143 891 1755 418 1535 80 167 2398 1610 1256 15...</td>\n",
       "    </tr>\n",
       "    <tr>\n",
       "      <th>1</th>\n",
       "      <td>1_B</td>\n",
       "      <td>143 891 80 1755 2398 167 1593 418 1803 1535 88...</td>\n",
       "    </tr>\n",
       "    <tr>\n",
       "      <th>2</th>\n",
       "      <td>1_C</td>\n",
       "      <td>143 891 1755 1535 2398 418 1610 80 1803 1593 8...</td>\n",
       "    </tr>\n",
       "    <tr>\n",
       "      <th>3</th>\n",
       "      <td>3_A</td>\n",
       "      <td>1180 618 2464 2174 2137 2189 2421 2432 1071 18...</td>\n",
       "    </tr>\n",
       "    <tr>\n",
       "      <th>4</th>\n",
       "      <td>3_B</td>\n",
       "      <td>1180 618 2464 2174 2137 1071 2189 2421 2432 59...</td>\n",
       "    </tr>\n",
       "    <tr>\n",
       "      <th>5</th>\n",
       "      <td>3_D</td>\n",
       "      <td>618 1180 2137 2493 2432 591 2464 515 1740 1528...</td>\n",
       "    </tr>\n",
       "    <tr>\n",
       "      <th>6</th>\n",
       "      <td>5_A</td>\n",
       "      <td>915 686 2050 1065 877 2353 1167 719 1782 441 1...</td>\n",
       "    </tr>\n",
       "    <tr>\n",
       "      <th>7</th>\n",
       "      <td>5_B</td>\n",
       "      <td>686 1065 2050 2353 305 915 877 441 704 1183 11...</td>\n",
       "    </tr>\n",
       "    <tr>\n",
       "      <th>8</th>\n",
       "      <td>5_C</td>\n",
       "      <td>996 686 441 1422 877 1169 454 1520 1065 457 23...</td>\n",
       "    </tr>\n",
       "  </tbody>\n",
       "</table>\n",
       "</div>"
      ],
      "text/plain": [
       "  QuestionId_Answer                                    MisconceptionId\n",
       "0               1_A  143 891 1755 418 1535 80 167 2398 1610 1256 15...\n",
       "1               1_B  143 891 80 1755 2398 167 1593 418 1803 1535 88...\n",
       "2               1_C  143 891 1755 1535 2398 418 1610 80 1803 1593 8...\n",
       "3               3_A  1180 618 2464 2174 2137 2189 2421 2432 1071 18...\n",
       "4               3_B  1180 618 2464 2174 2137 1071 2189 2421 2432 59...\n",
       "5               3_D  618 1180 2137 2493 2432 591 2464 515 1740 1528...\n",
       "6               5_A  915 686 2050 1065 877 2353 1167 719 1782 441 1...\n",
       "7               5_B  686 1065 2050 2353 305 915 877 441 704 1183 11...\n",
       "8               5_C  996 686 441 1422 877 1169 454 1520 1065 457 23..."
      ]
     },
     "execution_count": 18,
     "metadata": {},
     "output_type": "execute_result"
    }
   ],
   "source": [
    "import pandas as pd\n",
    "df = pd.DataFrame({\n",
    "    'QuestionId_Answer': ids,\n",
    "    'MisconceptionId': [' '.join(map(str, c)) for c in indices.tolist()]\n",
    "})\n",
    "df"
   ]
  },
  {
   "cell_type": "code",
   "execution_count": 19,
   "metadata": {},
   "outputs": [
    {
     "data": {
      "text/plain": [
       "(9, 2)"
      ]
     },
     "execution_count": 19,
     "metadata": {},
     "output_type": "execute_result"
    }
   ],
   "source": [
    "df.shape"
   ]
  },
  {
   "cell_type": "code",
   "execution_count": 16,
   "metadata": {},
   "outputs": [],
   "source": [
    "df.to_csv('submission.csv', index=False)"
   ]
  }
 ],
 "metadata": {
  "kernelspec": {
   "display_name": "kaggle_nlp",
   "language": "python",
   "name": "python3"
  },
  "language_info": {
   "codemirror_mode": {
    "name": "ipython",
    "version": 3
   },
   "file_extension": ".py",
   "mimetype": "text/x-python",
   "name": "python",
   "nbconvert_exporter": "python",
   "pygments_lexer": "ipython3",
   "version": "3.10.15"
  }
 },
 "nbformat": 4,
 "nbformat_minor": 2
}
