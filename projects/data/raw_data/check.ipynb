{
 "cells": [
  {
   "cell_type": "code",
   "execution_count": 2,
   "metadata": {},
   "outputs": [],
   "source": [
    "import pandas as pd\n",
    "\n",
    "train = pd.read_csv(\"./validation_v2/train.csv\")\n",
    "test = pd.read_csv(\"./validation_v2/test.csv\")"
   ]
  },
  {
   "cell_type": "code",
   "execution_count": 4,
   "metadata": {},
   "outputs": [
    {
     "name": "stdout",
     "output_type": "stream",
     "text": [
      "1247 622\n",
      "1247 622\n"
     ]
    }
   ],
   "source": [
    "train_question_id = set(train['QuestionId'].values)\n",
    "test_question_id = set(test['QuestionId'].values)\n",
    "\n",
    "print(len(train_question_id), len(test_question_id))\n",
    "print(len(train_question_id - test_question_id), len(test_question_id - train_question_id))"
   ]
  },
  {
   "cell_type": "code",
   "execution_count": 5,
   "metadata": {},
   "outputs": [
    {
     "name": "stdout",
     "output_type": "stream",
     "text": [
      "0\n"
     ]
    }
   ],
   "source": [
    "overlap = train_question_id & test_question_id\n",
    "print(len(overlap))"
   ]
  },
  {
   "cell_type": "code",
   "execution_count": 14,
   "metadata": {},
   "outputs": [
    {
     "name": "stdout",
     "output_type": "stream",
     "text": [
      "len(train_misconception_id): 1154\n",
      "len(test_misconception_id): 896\n",
      "len(train_misconception_id - test_misconception_id): 708\n",
      "len(test_misconception_id - train_misconception_id): 450\n",
      "446\n"
     ]
    }
   ],
   "source": [
    "train_misconception_id = set(x for x in train['MisconceptionAId'].dropna().values.tolist()) | \\\n",
    "                        set(x for x in train['MisconceptionBId'].dropna().values.tolist()) | \\\n",
    "                        set(x for x in train['MisconceptionCId'].dropna().values.tolist()) | \\\n",
    "                        set(x for x in train['MisconceptionDId'].dropna().values.tolist())\n",
    "\n",
    "test_misconception_id = set(x for x in test['MisconceptionAId'].dropna().values.tolist()) | \\\n",
    "                       set(x for x in test['MisconceptionBId'].dropna().values.tolist()) | \\\n",
    "                       set(x for x in test['MisconceptionCId'].dropna().values.tolist()) | \\\n",
    "                       set(x for x in test['MisconceptionDId'].dropna().values.tolist())\n",
    "\n",
    "\n",
    "print(f\"len(train_misconception_id): {len(train_misconception_id)}\")\n",
    "print(f\"len(test_misconception_id): {len(test_misconception_id)}\")\n",
    "print(f\"len(train_misconception_id - test_misconception_id): {len(train_misconception_id - test_misconception_id)}\")\n",
    "print(f\"len(test_misconception_id - train_misconception_id): {len(test_misconception_id - train_misconception_id)}\")\n",
    "overlap = train_misconception_id & test_misconception_id\n",
    "print(len(overlap))"
   ]
  }
 ],
 "metadata": {
  "kernelspec": {
   "display_name": "kaggle_nlp",
   "language": "python",
   "name": "python3"
  },
  "language_info": {
   "codemirror_mode": {
    "name": "ipython",
    "version": 3
   },
   "file_extension": ".py",
   "mimetype": "text/x-python",
   "name": "python",
   "nbconvert_exporter": "python",
   "pygments_lexer": "ipython3",
   "version": "3.10.15"
  }
 },
 "nbformat": 4,
 "nbformat_minor": 2
}
