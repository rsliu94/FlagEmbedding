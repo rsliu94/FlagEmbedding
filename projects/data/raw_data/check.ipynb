{
 "cells": [
  {
   "cell_type": "code",
   "execution_count": 2,
   "metadata": {},
   "outputs": [],
   "source": [
    "import pandas as pd\n",
    "\n",
    "train = pd.read_csv(\"./validation_v2/train.csv\")\n",
    "test = pd.read_csv(\"./validation_v2/test.csv\")"
   ]
  },
  {
   "cell_type": "code",
   "execution_count": 3,
   "metadata": {},
   "outputs": [
    {
     "name": "stdout",
     "output_type": "stream",
     "text": [
      "1247 622\n",
      "1247 622\n"
     ]
    }
   ],
   "source": [
    "train_question_id = set(train['QuestionId'].values)\n",
    "test_question_id = set(test['QuestionId'].values)\n",
    "\n",
    "print(len(train_question_id), len(test_question_id))\n",
    "print(len(train_question_id - test_question_id), len(test_question_id - train_question_id))"
   ]
  },
  {
   "cell_type": "code",
   "execution_count": 4,
   "metadata": {},
   "outputs": [
    {
     "name": "stdout",
     "output_type": "stream",
     "text": [
      "0\n"
     ]
    }
   ],
   "source": [
    "overlap = train_question_id & test_question_id\n",
    "print(len(overlap))"
   ]
  },
  {
   "cell_type": "code",
   "execution_count": 5,
   "metadata": {},
   "outputs": [
    {
     "name": "stdout",
     "output_type": "stream",
     "text": [
      "len(train_misconception_id): 1154\n",
      "len(test_misconception_id): 896\n",
      "len(train_misconception_id - test_misconception_id): 708\n",
      "len(test_misconception_id - train_misconception_id): 450\n",
      "446\n"
     ]
    }
   ],
   "source": [
    "train_misconception_id = set(x for x in train['MisconceptionAId'].dropna().values.tolist()) | \\\n",
    "                        set(x for x in train['MisconceptionBId'].dropna().values.tolist()) | \\\n",
    "                        set(x for x in train['MisconceptionCId'].dropna().values.tolist()) | \\\n",
    "                        set(x for x in train['MisconceptionDId'].dropna().values.tolist())\n",
    "\n",
    "test_misconception_id = set(x for x in test['MisconceptionAId'].dropna().values.tolist()) | \\\n",
    "                       set(x for x in test['MisconceptionBId'].dropna().values.tolist()) | \\\n",
    "                       set(x for x in test['MisconceptionCId'].dropna().values.tolist()) | \\\n",
    "                       set(x for x in test['MisconceptionDId'].dropna().values.tolist())\n",
    "\n",
    "\n",
    "print(f\"len(train_misconception_id): {len(train_misconception_id)}\")\n",
    "print(f\"len(test_misconception_id): {len(test_misconception_id)}\")\n",
    "print(f\"len(train_misconception_id - test_misconception_id): {len(train_misconception_id - test_misconception_id)}\")\n",
    "print(f\"len(test_misconception_id - train_misconception_id): {len(test_misconception_id - train_misconception_id)}\")\n",
    "overlap = train_misconception_id & test_misconception_id\n",
    "print(len(overlap))"
   ]
  },
  {
   "cell_type": "code",
   "execution_count": 6,
   "metadata": {},
   "outputs": [
    {
     "data": {
      "text/plain": [
       "1604"
      ]
     },
     "execution_count": 6,
     "metadata": {},
     "output_type": "execute_result"
    }
   ],
   "source": [
    "len(train_misconception_id | test_misconception_id)\n"
   ]
  },
  {
   "cell_type": "code",
   "execution_count": 10,
   "metadata": {},
   "outputs": [
    {
     "data": {
      "text/plain": [
       "2587"
      ]
     },
     "execution_count": 10,
     "metadata": {},
     "output_type": "execute_result"
    }
   ],
   "source": [
    "misconception_map = pd.read_csv(\"./misconception_mapping.csv\")\n",
    "len(misconception_map)\n"
   ]
  },
  {
   "cell_type": "code",
   "execution_count": 11,
   "metadata": {},
   "outputs": [
    {
     "data": {
      "text/plain": [
       "983"
      ]
     },
     "execution_count": 11,
     "metadata": {},
     "output_type": "execute_result"
    }
   ],
   "source": [
    "2587 - 1604"
   ]
  },
  {
   "cell_type": "code",
   "execution_count": 5,
   "metadata": {},
   "outputs": [],
   "source": [
    "import pandas as pd\n",
    "from itertools import chain\n",
    "v3_train_df = pd.read_csv('./validation_v3/train.csv')\n",
    "v3_test_df = pd.read_csv('./validation_v3/test.csv')\n",
    "v3_train_df['MisconceptionIdUnion'] = v3_train_df[['MisconceptionAId', 'MisconceptionBId', 'MisconceptionCId', 'MisconceptionDId']].apply(lambda x: set(x.dropna().astype(int)), axis=1)\n",
    "v3_test_df['MisconceptionIdUnion'] = v3_test_df[['MisconceptionAId', 'MisconceptionBId', 'MisconceptionCId', 'MisconceptionDId']].apply(lambda x: set(x.dropna().astype(int)), axis=1)\n",
    "v3_train_df = v3_train_df[['QuestionId', 'MisconceptionIdUnion']]\n",
    "v3_test_df = v3_test_df[['QuestionId', 'MisconceptionIdUnion']]"
   ]
  },
  {
   "cell_type": "code",
   "execution_count": 6,
   "metadata": {},
   "outputs": [
    {
     "data": {
      "text/html": [
       "<div>\n",
       "<style scoped>\n",
       "    .dataframe tbody tr th:only-of-type {\n",
       "        vertical-align: middle;\n",
       "    }\n",
       "\n",
       "    .dataframe tbody tr th {\n",
       "        vertical-align: top;\n",
       "    }\n",
       "\n",
       "    .dataframe thead th {\n",
       "        text-align: right;\n",
       "    }\n",
       "</style>\n",
       "<table border=\"1\" class=\"dataframe\">\n",
       "  <thead>\n",
       "    <tr style=\"text-align: right;\">\n",
       "      <th></th>\n",
       "      <th>QuestionId</th>\n",
       "      <th>MisconceptionIdUnion</th>\n",
       "    </tr>\n",
       "  </thead>\n",
       "  <tbody>\n",
       "    <tr>\n",
       "      <th>0</th>\n",
       "      <td>23</td>\n",
       "      <td>{2032, 2492, 2437}</td>\n",
       "    </tr>\n",
       "    <tr>\n",
       "      <th>1</th>\n",
       "      <td>29</td>\n",
       "      <td>{811, 1214}</td>\n",
       "    </tr>\n",
       "  </tbody>\n",
       "</table>\n",
       "</div>"
      ],
      "text/plain": [
       "   QuestionId MisconceptionIdUnion\n",
       "0          23   {2032, 2492, 2437}\n",
       "1          29          {811, 1214}"
      ]
     },
     "execution_count": 6,
     "metadata": {},
     "output_type": "execute_result"
    }
   ],
   "source": [
    "v3_test_df.head(2)"
   ]
  },
  {
   "cell_type": "code",
   "execution_count": 8,
   "metadata": {},
   "outputs": [
    {
     "data": {
      "text/plain": [
       "{811, 1214, 2032, 2437, 2492}"
      ]
     },
     "execution_count": 8,
     "metadata": {},
     "output_type": "execute_result"
    }
   ],
   "source": [
    "set(chain.from_iterable(v3_test_df['MisconceptionIdUnion'].head(2)))"
   ]
  },
  {
   "cell_type": "code",
   "execution_count": 10,
   "metadata": {},
   "outputs": [
    {
     "data": {
      "text/plain": [
       "371"
      ]
     },
     "execution_count": 10,
     "metadata": {},
     "output_type": "execute_result"
    }
   ],
   "source": [
    "\n",
    "def score_split(train_df, test_df):\n",
    "    train_misconceptions = set(chain.from_iterable(train_df['MisconceptionIdUnion']))\n",
    "    test_misconceptions = set(chain.from_iterable(test_df['MisconceptionIdUnion']))\n",
    "    overlap = train_misconceptions.intersection(test_misconceptions)\n",
    "    return len(overlap)\n",
    "\n",
    "score_split(v3_train_df, v3_test_df)\n",
    "\n"
   ]
  }
 ],
 "metadata": {
  "kernelspec": {
   "display_name": "kaggle_nlp",
   "language": "python",
   "name": "python3"
  },
  "language_info": {
   "codemirror_mode": {
    "name": "ipython",
    "version": 3
   },
   "file_extension": ".py",
   "mimetype": "text/x-python",
   "name": "python",
   "nbconvert_exporter": "python",
   "pygments_lexer": "ipython3",
   "version": "3.10.15"
  }
 },
 "nbformat": 4,
 "nbformat_minor": 2
}
