{
 "cells": [
  {
   "cell_type": "code",
   "execution_count": 1,
   "metadata": {},
   "outputs": [],
   "source": [
    "import json\n",
    "\n",
    "path = './corpus.jsonl'\n",
    "\n",
    "with open(path, 'r') as f:\n",
    "    corpus = [json.loads(line)['text'] for line in f]"
   ]
  },
  {
   "cell_type": "code",
   "execution_count": 17,
   "metadata": {},
   "outputs": [
    {
     "data": {
      "text/plain": [
       "Dataset({\n",
       "    features: ['text'],\n",
       "    num_rows: 2587\n",
       "})"
      ]
     },
     "execution_count": 17,
     "metadata": {},
     "output_type": "execute_result"
    }
   ],
   "source": [
    "import datasets\n",
    "dataset = datasets.load_dataset('json', data_files=path, split='train')\n",
    "dataset"
   ]
  },
  {
   "cell_type": "code",
   "execution_count": 18,
   "metadata": {},
   "outputs": [
    {
     "name": "stdout",
     "output_type": "stream",
     "text": [
      "does not know that angles in a triangle sum to 180 degrees\n",
      "----------------------------------------------------------------------------------------------------\n",
      "uses dividing fractions method for multiplying fractions\n",
      "----------------------------------------------------------------------------------------------------\n",
      "believes there are 100 degrees in a full turn\n",
      "----------------------------------------------------------------------------------------------------\n",
      "thinks a quadratic without a non variable term, can not be factorised\n",
      "----------------------------------------------------------------------------------------------------\n",
      "believes addition of terms and powers of terms are equivalent e.g. a + c = a^c\n",
      "----------------------------------------------------------------------------------------------------\n",
      "when measuring a reflex angle, gives the acute or obtuse angle that sums to 360 instead\n",
      "----------------------------------------------------------------------------------------------------\n",
      "can identify the multiplier used to form an equivalent fraction but does not apply to the numerator\n",
      "----------------------------------------------------------------------------------------------------\n",
      "believes gradient = change in y\n",
      "----------------------------------------------------------------------------------------------------\n",
      "student thinks that any two angles along a straight line are equal\n",
      "----------------------------------------------------------------------------------------------------\n",
      "thinks there are 180 degrees in a full turn\n",
      "----------------------------------------------------------------------------------------------------\n"
     ]
    }
   ],
   "source": [
    "for i in range(10):\n",
    "    print(dataset[i]['text'])\n",
    "    print('-' * 100)"
   ]
  },
  {
   "cell_type": "code",
   "execution_count": 21,
   "metadata": {},
   "outputs": [
    {
     "name": "stdout",
     "output_type": "stream",
     "text": [
      "simplify an algebraic fraction by factorising the numerator simplify the following, if possible: \\( \\frac{m^{2}+2 m-3}{m-3} \\) \\( m+1 \\) 2142.0\n",
      "----------------------------------------------------------------------------------------------------\n",
      "simplify an algebraic fraction by factorising the numerator simplify the following, if possible: \\( \\frac{m^{2}+2 m-3}{m-3} \\) \\( m+2 \\) 143.0\n",
      "----------------------------------------------------------------------------------------------------\n",
      "simplify an algebraic fraction by factorising the numerator simplify the following, if possible: \\( \\frac{m^{2}+2 m-3}{m-3} \\) \\( m-1 \\) 2142.0\n",
      "----------------------------------------------------------------------------------------------------\n",
      "recall and use the intersecting diagonals properties of a rectangle the angles highlighted on this rectangle with different length sides can never be... ![a rectangle with the diagonals drawn in. the angle on the right hand side at the centre is highlighted in red and the angle at the bottom at the centre is highlighted in yellow.]() acute 1180.0\n",
      "----------------------------------------------------------------------------------------------------\n",
      "recall and use the intersecting diagonals properties of a rectangle the angles highlighted on this rectangle with different length sides can never be... ![a rectangle with the diagonals drawn in. the angle on the right hand side at the centre is highlighted in red and the angle at the bottom at the centre is highlighted in yellow.]() obtuse 1180.0\n",
      "----------------------------------------------------------------------------------------------------\n",
      "recall and use the intersecting diagonals properties of a rectangle the angles highlighted on this rectangle with different length sides can never be... ![a rectangle with the diagonals drawn in. the angle on the right hand side at the centre is highlighted in red and the angle at the bottom at the centre is highlighted in yellow.]() not enough information 1180.0\n",
      "----------------------------------------------------------------------------------------------------\n",
      "identify a unit of area james has answered a question on the area of a trapezium and got an answer of \\( 54 \\). behind the star he has written the units that he used. \\( 54 \\, \\bigstar \\) which of the following units could be correct? \\( m \\) 686.0\n",
      "----------------------------------------------------------------------------------------------------\n",
      "identify a unit of area james has answered a question on the area of a trapezium and got an answer of \\( 54 \\). behind the star he has written the units that he used. \\( 54 \\, \\bigstar \\) which of the following units could be correct? \\( \\mathrm{cm} \\) 686.0\n",
      "----------------------------------------------------------------------------------------------------\n",
      "identify a unit of area james has answered a question on the area of a trapezium and got an answer of \\( 54 \\). behind the star he has written the units that he used. \\( 54 \\, \\bigstar \\) which of the following units could be correct? \\( \\mathrm{km}^{3} \\) 686.0\n",
      "----------------------------------------------------------------------------------------------------\n",
      "divide decimals by 10 \\( 43.2 \\div 10= \\) \\( 0.432 \\) 2123.0\n",
      "----------------------------------------------------------------------------------------------------\n"
     ]
    }
   ],
   "source": [
    "path = \"./queries_val2_v1.jsonl\"\n",
    "dataset = datasets.load_dataset('json', data_files=path, split='train')\n",
    "dataset\n",
    "for i in range(10):\n",
    "    print(dataset[i]['query'], dataset[i]['correct_id'])\n",
    "    print('-' * 100)"
   ]
  },
  {
   "cell_type": "code",
   "execution_count": 28,
   "metadata": {},
   "outputs": [
    {
     "data": {
      "text/plain": [
       "{'input_ids': tensor([[  101,  2515,  2025,  2113,  2008, 12113,  1999,  1037,  9546,  7680,\n",
       "          2000,  8380,  5445,   102]]), 'token_type_ids': tensor([[0, 0, 0, 0, 0, 0, 0, 0, 0, 0, 0, 0, 0, 0]]), 'attention_mask': tensor([[1, 1, 1, 1, 1, 1, 1, 1, 1, 1, 1, 1, 1, 1]])}"
      ]
     },
     "execution_count": 28,
     "metadata": {},
     "output_type": "execute_result"
    }
   ],
   "source": [
    "from transformers import AutoTokenizer, AutoModel\n",
    "model_id = \"BAAI/bge-small-en-v1.5\"\n",
    "d = {'text': 'does not know that angles in a triangle sum to 180 degrees'}\n",
    "tokenizer = AutoTokenizer.from_pretrained(model_id)\n",
    "ids = tokenizer(d['text'], max_length=128, padding=True, truncation=True,\n",
    "                             return_tensors=\"pt\")\n",
    "ids\n"
   ]
  },
  {
   "cell_type": "code",
   "execution_count": 42,
   "metadata": {},
   "outputs": [],
   "source": [
    "import torch\n",
    "from transformers import AutoTokenizer, AutoModel\n",
    "model_id = \"BAAI/bge-small-en-v1.5\"\n",
    "tokenizer = AutoTokenizer.from_pretrained(model_id)\n",
    "device = torch.device(\"cuda\" if torch.cuda.is_available() else \"cpu\")\n",
    "model = AutoModel.from_pretrained(model_id).to(device)"
   ]
  },
  {
   "cell_type": "code",
   "execution_count": 43,
   "metadata": {},
   "outputs": [
    {
     "name": "stdout",
     "output_type": "stream",
     "text": [
      "tensor([[-5.3867e-02,  3.1994e-03, -1.6951e-02, -6.9049e-02, -3.0075e-02,\n",
      "         -3.8436e-02, -6.5766e-03, -3.3353e-02,  5.9543e-02,  3.3863e-02,\n",
      "          1.3753e-02, -7.6120e-02, -1.4235e-02, -1.1288e-02,  2.3966e-02,\n",
      "         -1.3862e-02, -3.0358e-02,  9.2968e-03, -1.8522e-02, -2.4247e-02,\n",
      "          9.7753e-03, -4.4002e-02, -1.7134e-02, -7.5372e-03,  8.5100e-02,\n",
      "          3.4938e-02, -3.3996e-02, -1.2213e-01, -5.3134e-02, -1.7060e-01,\n",
      "          8.0506e-02,  3.3787e-03,  6.7322e-02, -3.7322e-02, -6.5864e-02,\n",
      "         -2.4245e-02, -1.3552e-02,  4.5215e-02, -3.1878e-02,  1.7572e-02,\n",
      "          1.5058e-02, -4.2877e-02,  3.5724e-02, -2.0317e-02, -3.1048e-03,\n",
      "         -2.0955e-02, -6.5798e-02,  2.2393e-02,  1.0473e-01,  3.3058e-02,\n",
      "          4.0727e-02, -1.5813e-02, -8.8412e-03,  1.9312e-03, -2.0983e-02,\n",
      "          2.0654e-02,  4.1578e-02,  3.0341e-02,  1.9466e-02,  2.8379e-02,\n",
      "          9.3157e-02,  3.2919e-02, -1.3207e-01,  3.1198e-02,  3.6531e-02,\n",
      "         -6.6946e-02,  2.4984e-02, -2.6643e-02,  5.7730e-02,  6.4486e-02,\n",
      "         -2.6220e-02, -3.9673e-03,  3.9279e-02,  4.6145e-02,  2.2138e-02,\n",
      "         -8.2963e-03, -4.6534e-02, -4.5114e-02, -3.9188e-02, -2.7438e-02,\n",
      "         -5.1718e-02, -5.3781e-03,  6.1927e-02, -2.0710e-02, -6.7842e-03,\n",
      "         -2.1431e-02, -3.9318e-03, -3.4344e-02,  6.5987e-02, -4.7734e-02,\n",
      "          6.7650e-02,  1.0394e-02, -4.5187e-02,  1.1620e-02, -3.5533e-03,\n",
      "          3.0724e-03,  1.7478e-02, -1.0150e-02,  6.5077e-02,  3.7283e-01,\n",
      "          6.9842e-03,  1.1423e-02,  4.1543e-02, -4.7588e-02, -7.0792e-02,\n",
      "         -4.6107e-03, -3.4823e-02, -3.5139e-02, -9.9998e-04, -3.0455e-02,\n",
      "         -5.5289e-03,  3.7898e-03,  7.1208e-02, -8.6187e-03, -5.6459e-02,\n",
      "          1.2976e-02, -3.2031e-02, -1.3521e-02,  8.0769e-02, -2.8624e-02,\n",
      "          1.4487e-02, -6.4035e-03, -4.6775e-03,  1.0000e-02, -1.3613e-02,\n",
      "         -1.2599e-02, -8.6807e-03,  8.1375e-02, -4.4248e-02,  7.7706e-02,\n",
      "         -1.4033e-02,  3.8519e-03, -5.9005e-02, -3.4834e-02, -1.8214e-02,\n",
      "         -2.8744e-02,  4.5886e-02,  1.8293e-03,  4.8620e-02,  2.1299e-02,\n",
      "          2.3427e-02,  1.3996e-02, -9.8386e-03, -5.9743e-02, -1.0201e-03,\n",
      "          1.4015e-01, -4.2384e-02, -1.4268e-04,  2.2235e-02, -2.2278e-02,\n",
      "         -1.0845e-02,  8.0497e-04, -3.6427e-02, -6.5657e-02,  5.9412e-02,\n",
      "         -6.6859e-02,  4.3139e-02, -1.2241e-02, -4.1834e-02,  3.2473e-02,\n",
      "         -7.8836e-02, -4.4374e-02, -1.6606e-02,  9.9177e-02,  4.8134e-02,\n",
      "          1.5583e-02,  3.0160e-03,  5.3936e-02,  1.5136e-02, -8.9951e-02,\n",
      "          5.7641e-03,  1.7226e-02, -1.9686e-02, -1.4073e-02,  8.4121e-02,\n",
      "         -1.7846e-02, -6.2456e-03, -1.4004e-02,  6.8332e-02,  4.2436e-02,\n",
      "          7.8487e-02, -1.6139e-02, -3.0304e-02,  5.5792e-02,  3.6195e-02,\n",
      "         -2.6048e-02,  2.3409e-02, -4.3748e-02, -4.2191e-02,  3.4996e-02,\n",
      "          1.0223e-02,  3.4631e-02, -9.0771e-02,  1.4512e-02, -2.1136e-02,\n",
      "         -5.3997e-02, -2.5116e-03, -5.9485e-03, -8.0928e-03,  2.1159e-02,\n",
      "          5.6833e-02, -4.1284e-03,  4.3442e-02,  3.3385e-03,  1.3098e-02,\n",
      "          4.4124e-02,  6.9280e-02, -6.5759e-02,  4.3855e-02,  8.8598e-02,\n",
      "          8.7437e-03, -4.2010e-02,  4.8231e-02,  5.6166e-03,  1.4813e-02,\n",
      "          2.4359e-02,  9.4240e-02,  3.9418e-02, -1.4993e-02, -3.6214e-03,\n",
      "          2.5644e-02, -1.0827e-01, -2.7689e-02, -2.7509e-01, -4.3951e-02,\n",
      "          6.4624e-02, -5.1730e-02,  2.4520e-02,  1.1261e-03, -5.5629e-03,\n",
      "         -4.2773e-02, -5.6766e-02,  4.8021e-02,  3.0233e-02, -2.6348e-02,\n",
      "         -9.5941e-03, -7.2990e-02,  3.1247e-02, -2.2448e-02, -7.2562e-02,\n",
      "          1.1291e-02, -1.0244e-02,  5.6990e-03, -6.6774e-03, -4.0424e-02,\n",
      "          1.8763e-02, -5.8934e-02,  1.3555e-02, -6.4071e-02,  1.0120e-01,\n",
      "         -1.1047e-02,  5.0940e-02,  1.2773e-02,  8.9562e-04, -2.2263e-02,\n",
      "         -2.9655e-02, -1.8401e-02,  1.9329e-02,  6.9036e-03, -4.7035e-02,\n",
      "         -5.8029e-02,  1.6551e-02, -4.2638e-02, -1.9111e-02, -3.7530e-03,\n",
      "          9.3239e-03, -2.2769e-02, -4.1398e-03, -7.6323e-03, -2.5966e-02,\n",
      "          9.3842e-03,  1.9377e-02,  1.4246e-02,  7.0137e-03,  1.6944e-02,\n",
      "         -4.1362e-02,  4.6329e-02,  5.0034e-02, -6.1455e-02, -4.1428e-02,\n",
      "          1.9327e-02, -1.7293e-02,  1.7622e-03, -6.0852e-03, -9.1698e-02,\n",
      "         -1.3399e-02,  3.7173e-02,  2.0405e-02,  4.0273e-02,  5.9557e-02,\n",
      "          4.5939e-03,  2.2198e-02,  1.4076e-02,  4.9142e-03,  6.1143e-02,\n",
      "         -6.3748e-03,  9.5271e-03, -1.0056e-03,  4.1970e-03,  2.2876e-02,\n",
      "          5.7305e-02, -1.6234e-02, -2.9636e-02,  3.6950e-02, -1.8298e-02,\n",
      "         -2.6899e-02,  3.3568e-02,  1.0042e-02, -6.3035e-02, -4.0709e-03,\n",
      "          4.3547e-02,  2.6167e-02, -4.7378e-02, -4.0061e-02,  1.5410e-02,\n",
      "          4.0151e-02,  8.4186e-02,  1.4593e-03, -2.6008e-02, -2.4331e-01,\n",
      "          9.8858e-02, -5.7917e-02, -3.9674e-02,  9.5848e-03, -2.3853e-02,\n",
      "          2.4939e-02,  2.2819e-02, -3.0626e-02,  5.8257e-02, -5.6049e-02,\n",
      "          2.9690e-02,  5.5982e-02, -2.8419e-02,  2.9579e-02,  9.6861e-03,\n",
      "          6.8322e-03, -3.5805e-03,  4.0641e-02,  2.2034e-03,  9.0893e-02,\n",
      "          3.5260e-02,  1.8590e-01, -4.3792e-02,  3.5915e-02,  2.6937e-02,\n",
      "          4.1411e-02, -5.4356e-02,  1.6386e-02, -1.2276e-02, -2.4429e-02,\n",
      "         -9.4883e-04,  1.0541e-01, -4.8885e-02, -3.2781e-02,  3.4232e-02,\n",
      "         -9.5069e-03,  6.0707e-03,  3.3749e-02,  3.0100e-02, -2.4934e-02,\n",
      "         -2.5631e-02, -8.1037e-02, -1.7498e-02,  5.5584e-02,  1.7919e-02,\n",
      "          1.7605e-03, -1.0981e-01,  7.0914e-02, -2.4140e-02, -4.8876e-03,\n",
      "          8.2407e-03,  3.1965e-02, -2.4926e-02,  2.5446e-02,  1.1908e-02,\n",
      "         -6.2701e-02,  2.3985e-02, -5.0243e-02, -2.0353e-02, -1.8834e-02,\n",
      "         -4.1355e-02,  6.0054e-02,  3.5590e-02, -1.5807e-02]], device='cuda:0')\n"
     ]
    }
   ],
   "source": [
    "d = {'text': 'uses dividing fractions method for multiplying fractions'}\n",
    "ids = tokenizer(d['text'], padding=True, truncation=True,\n",
    "                             return_tensors=\"pt\")\n",
    "model.eval()\n",
    "with torch.no_grad():\n",
    "    ids = ids.to(device)\n",
    "    outputs = model(**ids)\n",
    "    # embeddings = last_token_pool(outputs.last_hidden_state, features['attention_mask'])\n",
    "    embeddings = outputs.last_hidden_state[:, 0]  # CLS token\n",
    "    embeddings = torch.nn.functional.normalize(embeddings, p=2, dim=1)\n",
    "    print(embeddings)"
   ]
  },
  {
   "cell_type": "code",
   "execution_count": 41,
   "metadata": {},
   "outputs": [
    {
     "name": "stderr",
     "output_type": "stream",
     "text": [
      "You're using a BertTokenizerFast tokenizer. Please note that with a fast tokenizer, using the `__call__` method is faster than using a method to encode the text followed by a call to the `pad` method to get a padded encoding.\n"
     ]
    },
    {
     "name": "stdout",
     "output_type": "stream",
     "text": [
      "[[-5.38667627e-02  3.19937663e-03 -1.69507973e-02 -6.90493658e-02\n",
      "  -3.00752297e-02 -3.84360589e-02 -6.57658745e-03 -3.33531164e-02\n",
      "   5.95430210e-02  3.38625535e-02  1.37533555e-02 -7.61200637e-02\n",
      "  -1.42346853e-02 -1.12881511e-02  2.39661802e-02 -1.38618322e-02\n",
      "  -3.03578936e-02  9.29683819e-03 -1.85216218e-02 -2.42465585e-02\n",
      "   9.77529120e-03 -4.40022238e-02 -1.71339009e-02 -7.53717171e-03\n",
      "   8.51000249e-02  3.49384509e-02 -3.39957103e-02 -1.22133195e-01\n",
      "  -5.31342402e-02 -1.70595080e-01  8.05058479e-02  3.37874098e-03\n",
      "   6.73223808e-02 -3.73220108e-02 -6.58638924e-02 -2.42451373e-02\n",
      "  -1.35524701e-02  4.52145375e-02 -3.18779461e-02  1.75721496e-02\n",
      "   1.50582353e-02 -4.28771637e-02  3.57243642e-02 -2.03169417e-02\n",
      "  -3.10484786e-03 -2.09549014e-02 -6.57979324e-02  2.23932322e-02\n",
      "   1.04728520e-01  3.30577679e-02  4.07274663e-02 -1.58129372e-02\n",
      "  -8.84115789e-03  1.93124672e-03 -2.09827367e-02  2.06543542e-02\n",
      "   4.15777266e-02  3.03407162e-02  1.94660835e-02  2.83791404e-02\n",
      "   9.31568816e-02  3.29187512e-02 -1.32074073e-01  3.11977305e-02\n",
      "   3.65311988e-02 -6.69458658e-02  2.49840021e-02 -2.66425759e-02\n",
      "   5.77298701e-02  6.44855201e-02 -2.62203962e-02 -3.96725256e-03\n",
      "   3.92786004e-02  4.61445078e-02  2.21379101e-02 -8.29634815e-03\n",
      "  -4.65337485e-02 -4.51142490e-02 -3.91881354e-02 -2.74379719e-02\n",
      "  -5.17177954e-02 -5.37814386e-03  6.19273596e-02 -2.07102634e-02\n",
      "  -6.78423094e-03 -2.14314833e-02 -3.93184042e-03 -3.43443602e-02\n",
      "   6.59865886e-02 -4.77339700e-02  6.76502809e-02  1.03938598e-02\n",
      "  -4.51865159e-02  1.16202999e-02 -3.55330389e-03  3.07244970e-03\n",
      "   1.74784828e-02 -1.01499353e-02  6.50766268e-02  3.72829616e-01\n",
      "   6.98419381e-03  1.14232302e-02  4.15434092e-02 -4.75883484e-02\n",
      "  -7.07917139e-02 -4.61072987e-03 -3.48232947e-02 -3.51393148e-02\n",
      "  -9.99976997e-04 -3.04552782e-02 -5.52887144e-03  3.78978276e-03\n",
      "   7.12082535e-02 -8.61870125e-03 -5.64594567e-02  1.29764630e-02\n",
      "  -3.20313349e-02 -1.35210892e-02  8.07690471e-02 -2.86237951e-02\n",
      "   1.44866994e-02 -6.40353188e-03 -4.67750384e-03  1.00004403e-02\n",
      "  -1.36131868e-02 -1.25989532e-02 -8.68066400e-03  8.13751891e-02\n",
      "  -4.42483313e-02  7.77055398e-02 -1.40325492e-02  3.85192200e-03\n",
      "  -5.90050146e-02 -3.48341838e-02 -1.82136465e-02 -2.87436042e-02\n",
      "   4.58863527e-02  1.82934117e-03  4.86200042e-02  2.12993380e-02\n",
      "   2.34270487e-02  1.39963618e-02 -9.83858667e-03 -5.97433746e-02\n",
      "  -1.02009659e-03  1.40154332e-01 -4.23841365e-02 -1.42683144e-04\n",
      "   2.22354792e-02 -2.22781152e-02 -1.08451899e-02  8.04973068e-04\n",
      "  -3.64269800e-02 -6.56567886e-02  5.94122969e-02 -6.68585524e-02\n",
      "   4.31389697e-02 -1.22406902e-02 -4.18335833e-02  3.24732363e-02\n",
      "  -7.88362026e-02 -4.43743430e-02 -1.66056417e-02  9.91774574e-02\n",
      "   4.81337383e-02  1.55833298e-02  3.01595055e-03  5.39355353e-02\n",
      "   1.51364012e-02 -8.99512693e-02  5.76410769e-03  1.72256120e-02\n",
      "  -1.96855739e-02 -1.40726604e-02  8.41214880e-02 -1.78456083e-02\n",
      "  -6.24564290e-03 -1.40044102e-02  6.83319867e-02  4.24356163e-02\n",
      "   7.84867033e-02 -1.61388945e-02 -3.03035267e-02  5.57923988e-02\n",
      "   3.61951441e-02 -2.60482710e-02  2.34091096e-02 -4.37482931e-02\n",
      "  -4.21905592e-02  3.49960178e-02  1.02233496e-02  3.46306972e-02\n",
      "  -9.07711014e-02  1.45122595e-02 -2.11360920e-02 -5.39969951e-02\n",
      "  -2.51160446e-03 -5.94853796e-03 -8.09275080e-03  2.11586803e-02\n",
      "   5.68326898e-02 -4.12838953e-03  4.34422977e-02  3.33850249e-03\n",
      "   1.30979773e-02  4.41244841e-02  6.92795068e-02 -6.57590628e-02\n",
      "   4.38551940e-02  8.85980576e-02  8.74369405e-03 -4.20098379e-02\n",
      "   4.82309461e-02  5.61661506e-03  1.48133272e-02  2.43587755e-02\n",
      "   9.42398757e-02  3.94184850e-02 -1.49926972e-02 -3.62138101e-03\n",
      "   2.56437436e-02 -1.08271301e-01 -2.76891217e-02 -2.75094628e-01\n",
      "  -4.39514518e-02  6.46241531e-02 -5.17302155e-02  2.45202612e-02\n",
      "   1.12611812e-03 -5.56292990e-03 -4.27731276e-02 -5.67658506e-02\n",
      "   4.80207093e-02  3.02327555e-02 -2.63479073e-02 -9.59406327e-03\n",
      "  -7.29897842e-02  3.12467795e-02 -2.24479642e-02 -7.25623369e-02\n",
      "   1.12905223e-02 -1.02441544e-02  5.69895562e-03 -6.67741988e-03\n",
      "  -4.04238179e-02  1.87628549e-02 -5.89338765e-02  1.35546234e-02\n",
      "  -6.40713871e-02  1.01200759e-01 -1.10467551e-02  5.09401597e-02\n",
      "   1.27734169e-02  8.95619858e-04 -2.22632568e-02 -2.96552256e-02\n",
      "  -1.84009708e-02  1.93288382e-02  6.90364884e-03 -4.70346585e-02\n",
      "  -5.80290034e-02  1.65510830e-02 -4.26382981e-02 -1.91113241e-02\n",
      "  -3.75296525e-03  9.32387635e-03 -2.27694456e-02 -4.13983222e-03\n",
      "  -7.63232727e-03 -2.59661824e-02  9.38421767e-03  1.93773452e-02\n",
      "   1.42464554e-02  7.01370742e-03  1.69436987e-02 -4.13623862e-02\n",
      "   4.63294052e-02  5.00338152e-02 -6.14548847e-02 -4.14279029e-02\n",
      "   1.93271916e-02 -1.72932521e-02  1.76218466e-03 -6.08521327e-03\n",
      "  -9.16979164e-02 -1.33985393e-02  3.71726751e-02  2.04054303e-02\n",
      "   4.02728692e-02  5.95571250e-02  4.59393859e-03  2.21976470e-02\n",
      "   1.40759433e-02  4.91416967e-03  6.11425191e-02 -6.37481688e-03\n",
      "   9.52708442e-03 -1.00556586e-03  4.19702195e-03  2.28758343e-02\n",
      "   5.73052242e-02 -1.62342750e-02 -2.96358652e-02  3.69499400e-02\n",
      "  -1.82981640e-02 -2.68985834e-02  3.35676931e-02  1.00418627e-02\n",
      "  -6.30352795e-02 -4.07091435e-03  4.35471348e-02  2.61666998e-02\n",
      "  -4.73775715e-02 -4.00610566e-02  1.54096745e-02  4.01509628e-02\n",
      "   8.41858611e-02  1.45930599e-03 -2.60079466e-02 -2.43312985e-01\n",
      "   9.88584533e-02 -5.79168573e-02 -3.96743529e-02  9.58478451e-03\n",
      "  -2.38533597e-02  2.49388535e-02  2.28190608e-02 -3.06261275e-02\n",
      "   5.82573898e-02 -5.60491569e-02  2.96897348e-02  5.59823476e-02\n",
      "  -2.84193121e-02  2.95790229e-02  9.68609471e-03  6.83224201e-03\n",
      "  -3.58052063e-03  4.06408943e-02  2.20340793e-03  9.08934250e-02\n",
      "   3.52603160e-02  1.85897380e-01 -4.37919907e-02  3.59149352e-02\n",
      "   2.69374996e-02  4.14105579e-02 -5.43557927e-02  1.63862053e-02\n",
      "  -1.22756166e-02 -2.44292971e-02 -9.48834873e-04  1.05414674e-01\n",
      "  -4.88845520e-02 -3.27805988e-02  3.42321135e-02 -9.50689428e-03\n",
      "   6.07066229e-03  3.37491557e-02  3.01000159e-02 -2.49339528e-02\n",
      "  -2.56309584e-02 -8.10367763e-02 -1.74982268e-02  5.55842370e-02\n",
      "   1.79190300e-02  1.76053890e-03 -1.09806992e-01  7.09143877e-02\n",
      "  -2.41396315e-02 -4.88757296e-03  8.24069418e-03  3.19648907e-02\n",
      "  -2.49264427e-02  2.54457314e-02  1.19078811e-02 -6.27010688e-02\n",
      "   2.39854138e-02 -5.02427593e-02 -2.03525200e-02 -1.88341383e-02\n",
      "  -4.13547643e-02  6.00541793e-02  3.55899408e-02 -1.58070996e-02]]\n"
     ]
    }
   ],
   "source": [
    "from FlagEmbedding import FlagModel\n",
    "sentences_1 = [\"uses dividing fractions method for multiplying fractions\"]\n",
    "model = FlagModel('BAAI/bge-small-en-v1.5',\n",
    "                  use_fp16=False) # Setting use_fp16 to True speeds up computation with a slight performance degradation\n",
    "embeddings_1 = model.encode(sentences_1)\n",
    "print(embeddings_1)\n"
   ]
  },
  {
   "cell_type": "code",
   "execution_count": 22,
   "metadata": {},
   "outputs": [
    {
     "data": {
      "text/plain": [
       "array([[[0., 0., 0., ..., 0., 0., 0.],\n",
       "        [0., 0., 0., ..., 0., 0., 0.],\n",
       "        [0., 0., 0., ..., 0., 0., 0.],\n",
       "        ...,\n",
       "        [0., 0., 0., ..., 0., 0., 0.],\n",
       "        [0., 0., 0., ..., 0., 0., 0.],\n",
       "        [0., 0., 0., ..., 0., 0., 0.]]])"
      ]
     },
     "execution_count": 22,
     "metadata": {},
     "output_type": "execute_result"
    }
   ],
   "source": [
    "np.array([query_embedding])"
   ]
  },
  {
   "cell_type": "code",
   "execution_count": 23,
   "metadata": {},
   "outputs": [],
   "source": [
    "import faiss\n",
    "import numpy as np\n",
    "# import torch\n",
    "\n",
    "# 1. 初始化索引\n",
    "dimension = 384  # BGE-small 模型的输出维度\n",
    "index = faiss.IndexFlatL2(dimension)  # 使用L2距离的暴力检索索引\n",
    "\n",
    "# 2. 将语料库的向量添加到索引中\n",
    "# 假设 corpus_embeddings 是您的语料库编码后的向量\n",
    "corpus_embeddings = np.zeros((50, dimension))\n",
    "index.add(corpus_embeddings.astype('float32'))\n",
    "\n",
    "# 3. 搜索最相似的向量\n",
    "query_embedding = np.zeros(dimension)\n",
    "k = 5  # 返回前k个最相似的结果\n",
    "\n",
    "# 执行搜索\n",
    "distances, indices = index.search(\n",
    "    np.array([query_embedding]).astype('float32'), \n",
    "    k\n",
    ")"
   ]
  },
  {
   "cell_type": "code",
   "execution_count": 15,
   "metadata": {},
   "outputs": [
    {
     "data": {
      "text/plain": [
       "(array([[0., 0., 0., 0., 0.]], dtype=float32), array([[1, 2, 3, 4, 0]]))"
      ]
     },
     "execution_count": 15,
     "metadata": {},
     "output_type": "execute_result"
    }
   ],
   "source": [
    "distances, indices"
   ]
  },
  {
   "cell_type": "code",
   "execution_count": 29,
   "metadata": {},
   "outputs": [
    {
     "data": {
      "text/plain": [
       "array([[1, 2]])"
      ]
     },
     "execution_count": 29,
     "metadata": {},
     "output_type": "execute_result"
    }
   ],
   "source": [
    "indices[:, :2]"
   ]
  },
  {
   "cell_type": "code",
   "execution_count": 57,
   "metadata": {},
   "outputs": [],
   "source": [
    "import numpy as np\n",
    "\n",
    "\n",
    "def apk(actual, predicted, k=25):\n",
    "    \"\"\"\n",
    "    Computes the average precision at k.\n",
    "    \n",
    "    This function computes the average prescision at k between two lists of\n",
    "    items.\n",
    "    \n",
    "    Parameters\n",
    "    ----------\n",
    "    actual : list of float\n",
    "    predicted : numpy.ndarray\n",
    "    k : int, optional\n",
    "        The maximum number of predicted elements\n",
    "        \n",
    "    Returns\n",
    "    -------\n",
    "    score : double\n",
    "            The average precision at k over the input lists\n",
    "    \"\"\"\n",
    "    \n",
    "    if not actual:\n",
    "        return 0.0\n",
    "    print(len(predicted))\n",
    "    if len(predicted)>k:\n",
    "        predicted = predicted[:k]\n",
    "\n",
    "    score = 0.0\n",
    "    num_hits = 0.0\n",
    "\n",
    "    for i,p in enumerate(predicted):\n",
    "        print(p, actual)\n",
    "        # first condition checks whether it is valid prediction\n",
    "        # second condition checks if prediction is not repeated\n",
    "        if p in actual and p not in predicted[:i]:\n",
    "            print(\"hit\")\n",
    "            num_hits += 1.0\n",
    "            score += num_hits / (i+1.0)\n",
    "\n",
    "    return score / min(len(actual), k)\n",
    "\n",
    "def mapk(actual, predicted, k=25):\n",
    "    \"\"\"\n",
    "    Computes the mean average precision at k.\n",
    "    \n",
    "    This function computes the mean average prescision at k between two lists\n",
    "    of lists of items.\n",
    "    \n",
    "    Parameters\n",
    "    ----------\n",
    "    actual : list\n",
    "             A list of lists of elements that are to be predicted \n",
    "             (order doesn't matter in the lists)\n",
    "    predicted : list\n",
    "                A list of lists of predicted elements\n",
    "                (order matters in the lists)\n",
    "    k : int, optional\n",
    "        The maximum number of predicted elements\n",
    "        \n",
    "    Returns\n",
    "    -------\n",
    "    score : double\n",
    "            The mean average precision at k over the input lists\n",
    "    \"\"\"\n",
    "    res = [apk(a,p,k) for a,p in zip(actual, predicted)]\n",
    "    print(res)\n",
    "    return np.mean(res)\n"
   ]
  },
  {
   "cell_type": "code",
   "execution_count": 60,
   "metadata": {},
   "outputs": [
    {
     "data": {
      "text/plain": [
       "numpy.ndarray"
      ]
     },
     "execution_count": 60,
     "metadata": {},
     "output_type": "execute_result"
    }
   ],
   "source": [
    "type(predicted)"
   ]
  },
  {
   "cell_type": "code",
   "execution_count": 61,
   "metadata": {},
   "outputs": [
    {
     "name": "stdout",
     "output_type": "stream",
     "text": [
      "3\n",
      "2 1\n"
     ]
    },
    {
     "ename": "TypeError",
     "evalue": "argument of type 'int' is not iterable",
     "output_type": "error",
     "traceback": [
      "\u001b[0;31m---------------------------------------------------------------------------\u001b[0m",
      "\u001b[0;31mTypeError\u001b[0m                                 Traceback (most recent call last)",
      "Cell \u001b[0;32mIn[61], line 3\u001b[0m\n\u001b[1;32m      1\u001b[0m actual \u001b[38;5;241m=\u001b[39m [\u001b[38;5;241m1\u001b[39m, \u001b[38;5;241m2\u001b[39m]\n\u001b[1;32m      2\u001b[0m predicted \u001b[38;5;241m=\u001b[39m np\u001b[38;5;241m.\u001b[39marray([[\u001b[38;5;241m2\u001b[39m,\u001b[38;5;241m2\u001b[39m,\u001b[38;5;241m1\u001b[39m], [\u001b[38;5;241m1\u001b[39m,\u001b[38;5;241m2\u001b[39m,\u001b[38;5;241m3\u001b[39m]])\n\u001b[0;32m----> 3\u001b[0m \u001b[43mmapk\u001b[49m\u001b[43m(\u001b[49m\u001b[43mactual\u001b[49m\u001b[43m,\u001b[49m\u001b[43m \u001b[49m\u001b[43mpredicted\u001b[49m\u001b[43m)\u001b[49m\n",
      "Cell \u001b[0;32mIn[57], line 67\u001b[0m, in \u001b[0;36mmapk\u001b[0;34m(actual, predicted, k)\u001b[0m\n\u001b[1;32m     44\u001b[0m \u001b[38;5;28;01mdef\u001b[39;00m \u001b[38;5;21mmapk\u001b[39m(actual, predicted, k\u001b[38;5;241m=\u001b[39m\u001b[38;5;241m25\u001b[39m):\n\u001b[1;32m     45\u001b[0m \u001b[38;5;250m    \u001b[39m\u001b[38;5;124;03m\"\"\"\u001b[39;00m\n\u001b[1;32m     46\u001b[0m \u001b[38;5;124;03m    Computes the mean average precision at k.\u001b[39;00m\n\u001b[1;32m     47\u001b[0m \u001b[38;5;124;03m    \u001b[39;00m\n\u001b[0;32m   (...)\u001b[0m\n\u001b[1;32m     65\u001b[0m \u001b[38;5;124;03m            The mean average precision at k over the input lists\u001b[39;00m\n\u001b[1;32m     66\u001b[0m \u001b[38;5;124;03m    \"\"\"\u001b[39;00m\n\u001b[0;32m---> 67\u001b[0m     res \u001b[38;5;241m=\u001b[39m [apk(a,p,k) \u001b[38;5;28;01mfor\u001b[39;00m a,p \u001b[38;5;129;01min\u001b[39;00m \u001b[38;5;28mzip\u001b[39m(actual, predicted)]\n\u001b[1;32m     68\u001b[0m     \u001b[38;5;28mprint\u001b[39m(res)\n\u001b[1;32m     69\u001b[0m     \u001b[38;5;28;01mreturn\u001b[39;00m np\u001b[38;5;241m.\u001b[39mmean(res)\n",
      "Cell \u001b[0;32mIn[57], line 67\u001b[0m, in \u001b[0;36m<listcomp>\u001b[0;34m(.0)\u001b[0m\n\u001b[1;32m     44\u001b[0m \u001b[38;5;28;01mdef\u001b[39;00m \u001b[38;5;21mmapk\u001b[39m(actual, predicted, k\u001b[38;5;241m=\u001b[39m\u001b[38;5;241m25\u001b[39m):\n\u001b[1;32m     45\u001b[0m \u001b[38;5;250m    \u001b[39m\u001b[38;5;124;03m\"\"\"\u001b[39;00m\n\u001b[1;32m     46\u001b[0m \u001b[38;5;124;03m    Computes the mean average precision at k.\u001b[39;00m\n\u001b[1;32m     47\u001b[0m \u001b[38;5;124;03m    \u001b[39;00m\n\u001b[0;32m   (...)\u001b[0m\n\u001b[1;32m     65\u001b[0m \u001b[38;5;124;03m            The mean average precision at k over the input lists\u001b[39;00m\n\u001b[1;32m     66\u001b[0m \u001b[38;5;124;03m    \"\"\"\u001b[39;00m\n\u001b[0;32m---> 67\u001b[0m     res \u001b[38;5;241m=\u001b[39m [\u001b[43mapk\u001b[49m\u001b[43m(\u001b[49m\u001b[43ma\u001b[49m\u001b[43m,\u001b[49m\u001b[43mp\u001b[49m\u001b[43m,\u001b[49m\u001b[43mk\u001b[49m\u001b[43m)\u001b[49m \u001b[38;5;28;01mfor\u001b[39;00m a,p \u001b[38;5;129;01min\u001b[39;00m \u001b[38;5;28mzip\u001b[39m(actual, predicted)]\n\u001b[1;32m     68\u001b[0m     \u001b[38;5;28mprint\u001b[39m(res)\n\u001b[1;32m     69\u001b[0m     \u001b[38;5;28;01mreturn\u001b[39;00m np\u001b[38;5;241m.\u001b[39mmean(res)\n",
      "Cell \u001b[0;32mIn[57], line 37\u001b[0m, in \u001b[0;36mapk\u001b[0;34m(actual, predicted, k)\u001b[0m\n\u001b[1;32m     34\u001b[0m \u001b[38;5;28mprint\u001b[39m(p, actual)\n\u001b[1;32m     35\u001b[0m \u001b[38;5;66;03m# first condition checks whether it is valid prediction\u001b[39;00m\n\u001b[1;32m     36\u001b[0m \u001b[38;5;66;03m# second condition checks if prediction is not repeated\u001b[39;00m\n\u001b[0;32m---> 37\u001b[0m \u001b[38;5;28;01mif\u001b[39;00m \u001b[43mp\u001b[49m\u001b[43m \u001b[49m\u001b[38;5;129;43;01min\u001b[39;49;00m\u001b[43m \u001b[49m\u001b[43mactual\u001b[49m \u001b[38;5;129;01mand\u001b[39;00m p \u001b[38;5;129;01mnot\u001b[39;00m \u001b[38;5;129;01min\u001b[39;00m predicted[:i]:\n\u001b[1;32m     38\u001b[0m     \u001b[38;5;28mprint\u001b[39m(\u001b[38;5;124m\"\u001b[39m\u001b[38;5;124mhit\u001b[39m\u001b[38;5;124m\"\u001b[39m)\n\u001b[1;32m     39\u001b[0m     num_hits \u001b[38;5;241m+\u001b[39m\u001b[38;5;241m=\u001b[39m \u001b[38;5;241m1.0\u001b[39m\n",
      "\u001b[0;31mTypeError\u001b[0m: argument of type 'int' is not iterable"
     ]
    }
   ],
   "source": [
    "actual = [1, 2]\n",
    "predicted = np.array([[2,2,1], [1,2,3]])\n",
    "mapk(actual, predicted)"
   ]
  },
  {
   "cell_type": "code",
   "execution_count": 8,
   "metadata": {},
   "outputs": [
    {
     "name": "stderr",
     "output_type": "stream",
     "text": [
      "Loading checkpoint shards: 100%|██████████| 3/3 [00:00<00:00,  8.21it/s]\n",
      "Asking to truncate to max_length but no maximum length is provided and the model has no predefined maximum length. Default to no truncation.\n"
     ]
    }
   ],
   "source": [
    "from transformers import AutoTokenizer, AutoModel\n",
    "import torch\n",
    "from torch import Tensor\n",
    "from torch.nn.functional import normalize\n",
    "def last_token_pool(last_hidden_states: Tensor,\n",
    "                 attention_mask: Tensor) -> Tensor:\n",
    "    left_padding = (attention_mask[:, -1].sum() == attention_mask.shape[0])\n",
    "    if left_padding:\n",
    "        return last_hidden_states[:, -1]\n",
    "    else:\n",
    "        sequence_lengths = attention_mask.sum(dim=1) - 1\n",
    "        batch_size = last_hidden_states.shape[0]\n",
    "        return last_hidden_states[torch.arange(batch_size, device=last_hidden_states.device), sequence_lengths]\n",
    "    \n",
    "model_path = \"BAAI/bge-en-icl\"\n",
    "tokenizer = AutoTokenizer.from_pretrained(model_path)\n",
    "model = AutoModel.from_pretrained(model_path)\n",
    "model.eval()\n",
    "txt = 'Does not know that angles in a triangle sum to 180 degrees'\n",
    "with torch.no_grad():\n",
    "    ids = tokenizer(txt, padding=True, truncation=True,\n",
    "                             return_tensors=\"pt\")\n",
    "    outputs = model(**ids)\n",
    "    embedding = last_token_pool(outputs.last_hidden_state, ids['attention_mask'])\n",
    "    embedding = normalize(embedding, p=2, dim=1)"
   ]
  },
  {
   "cell_type": "code",
   "execution_count": 9,
   "metadata": {},
   "outputs": [
    {
     "data": {
      "text/plain": [
       "{'input_ids': tensor([[    1,  9377,   459,   873,   369, 22289,   297,   264, 24411,  2648,\n",
       "           298, 28705, 28740, 28783, 28734, 11182,     2]]), 'attention_mask': tensor([[1, 1, 1, 1, 1, 1, 1, 1, 1, 1, 1, 1, 1, 1, 1, 1, 1]])}"
      ]
     },
     "execution_count": 9,
     "metadata": {},
     "output_type": "execute_result"
    }
   ],
   "source": [
    "ids"
   ]
  },
  {
   "cell_type": "code",
   "execution_count": 11,
   "metadata": {},
   "outputs": [
    {
     "data": {
      "text/plain": [
       "tensor([[-0.0074,  0.0133, -0.0022,  ...,  0.0184,  0.0069, -0.0021]])"
      ]
     },
     "execution_count": 11,
     "metadata": {},
     "output_type": "execute_result"
    }
   ],
   "source": [
    "embedding"
   ]
  },
  {
   "cell_type": "code",
   "execution_count": 5,
   "metadata": {},
   "outputs": [
    {
     "data": {
      "text/plain": [
       "torch.Size([1, 17, 4096])"
      ]
     },
     "execution_count": 5,
     "metadata": {},
     "output_type": "execute_result"
    }
   ],
   "source": [
    "outputs = model(**batch_dict)\n",
    "embedding = last_token_pool(outputs.last_hidden_state, batch_dict['attention_mask'])\n",
    "embedding = F.normalize(embedding, p=2, dim=1)"
   ]
  },
  {
   "cell_type": "code",
   "execution_count": 6,
   "metadata": {},
   "outputs": [
    {
     "data": {
      "text/plain": [
       "torch.Size([1, 17, 4096])"
      ]
     },
     "execution_count": 6,
     "metadata": {},
     "output_type": "execute_result"
    }
   ],
   "source": [
    "from torch.nn.functional import normalize\n",
    "normalized_lst = normalize(lst, p=2, dim=1)\n",
    "normalized_lst.shape\n"
   ]
  },
  {
   "cell_type": "code",
   "execution_count": 7,
   "metadata": {},
   "outputs": [
    {
     "data": {
      "text/plain": [
       "tensor([[[-0.1049,  0.1073, -0.1632,  ..., -0.0285, -0.0711,  0.2009],\n",
       "         [-0.5135,  0.2664,  0.1845,  ...,  0.0845,  0.2855,  0.3079],\n",
       "         [ 0.0967, -0.2451,  0.0729,  ...,  0.0800,  0.1363, -0.0667],\n",
       "         ...,\n",
       "         [ 0.0801,  0.1629,  0.1332,  ..., -0.2446,  0.1674, -0.0064],\n",
       "         [-0.0601, -0.0237, -0.3550,  ...,  0.4665,  0.2247,  0.3120],\n",
       "         [-0.1397,  0.4116, -0.0410,  ...,  0.3408,  0.0493, -0.0320]]])"
      ]
     },
     "execution_count": 7,
     "metadata": {},
     "output_type": "execute_result"
    }
   ],
   "source": [
    "normalized_lst"
   ]
  },
  {
   "cell_type": "code",
   "execution_count": 4,
   "metadata": {},
   "outputs": [],
   "source": [
    "import faiss\n",
    "import numpy as np\n",
    "index = faiss.IndexFlatL2(4)\n",
    "corpus_embeddings = np.array([[1, 2, 3, 4], [2, 3, 4, 5], [1,2,3,4]])\n",
    "index.add(corpus_embeddings.astype('float32'))\n"
   ]
  },
  {
   "cell_type": "code",
   "execution_count": 17,
   "metadata": {},
   "outputs": [
    {
     "data": {
      "text/plain": [
       "'Does not know that to factorise a quadratic expression, to find two numbers that add to give the coefficient of the x term, and multiply to give the non variable term\\n\\n'"
      ]
     },
     "execution_count": 17,
     "metadata": {},
     "output_type": "execute_result"
    }
   ],
   "source": [
    "import pandas as pd\n",
    "mis_map = pd.read_csv('./raw_data/misconception_mapping.csv')\n",
    "mis_map[mis_map['MisconceptionId'] == 2068]['MisconceptionName'].values[0]"
   ]
  },
  {
   "cell_type": "code",
   "execution_count": 9,
   "metadata": {},
   "outputs": [
    {
     "data": {
      "text/plain": [
       "array([[0, 2, 1],\n",
       "       [1, 0, 2]])"
      ]
     },
     "execution_count": 9,
     "metadata": {},
     "output_type": "execute_result"
    }
   ],
   "source": [
    "query_embedding = np.array([[1,2,3,4], [2,3,4,5]])\n",
    "distances, indices = index.search(query_embedding.astype('float32'), k=3)\n",
    "indices\n"
   ]
  },
  {
   "cell_type": "code",
   "execution_count": 7,
   "metadata": {},
   "outputs": [
    {
     "data": {
      "text/plain": [
       "array([[0, 2, 1]])"
      ]
     },
     "execution_count": 7,
     "metadata": {},
     "output_type": "execute_result"
    }
   ],
   "source": [
    "from sklearn.metrics.pairwise import cosine_similarity\n",
    "cosine_sims = cosine_similarity(query_embedding, corpus_embeddings)\n",
    "val_sorted_indices = np.argsort(-cosine_sims, axis=1)\n",
    "val_sorted_indices"
   ]
  },
  {
   "cell_type": "code",
   "execution_count": 41,
   "metadata": {},
   "outputs": [],
   "source": [
    "import numpy as np\n",
    "import pandas as pd\n",
    "\n",
    "def apk(actual, predicted, k=25):\n",
    "    \"\"\"\n",
    "    Computes the average precision at k.\n",
    "    \n",
    "    This function computes the average prescision at k between two lists of\n",
    "    items.\n",
    "    \n",
    "    Parameters\n",
    "    ----------\n",
    "    actual : list of float\n",
    "    predicted : numpy.ndarray\n",
    "    k : int, optional\n",
    "        The maximum number of predicted elements\n",
    "        \n",
    "    Returns\n",
    "    -------\n",
    "    score : double\n",
    "            The average precision at k over the input lists\n",
    "    \"\"\"\n",
    "    \n",
    "    if not actual:\n",
    "        return 0.0\n",
    "\n",
    "    if len(predicted)>k:\n",
    "        predicted = predicted[:k]\n",
    "\n",
    "    score = 0.0\n",
    "    num_hits = 0.0\n",
    "\n",
    "    for i,p in enumerate(predicted):\n",
    "        # first condition checks whether it is valid prediction\n",
    "        # second condition checks if prediction is not repeated\n",
    "        if p in actual and p not in predicted[:i]:\n",
    "            num_hits += 1.0\n",
    "            score += num_hits / (i+1.0)\n",
    "\n",
    "    return score / min(len(actual), k)\n",
    "\n",
    "\n",
    "def mapk(actual, predicted, k=25):\n",
    "    \"\"\"\n",
    "    Computes the mean average precision at k.\n",
    "    \n",
    "    This function computes the mean average prescision at k between two lists\n",
    "    of lists of items.\n",
    "    \n",
    "    Parameters\n",
    "    ----------\n",
    "    actual : list\n",
    "             A list of lists of elements that are to be predicted \n",
    "             (order doesn't matter in the lists)\n",
    "    predicted : list\n",
    "                A list of lists of predicted elements\n",
    "                (order matters in the lists)\n",
    "    k : int, optional\n",
    "        The maximum number of predicted elements\n",
    "        \n",
    "    Returns\n",
    "    -------\n",
    "    score : double\n",
    "            The mean average precision at k over the input lists\n",
    "    \"\"\"\n",
    "    print([apk(a,p,k) for a,p in zip(actual, predicted)])\n",
    "    return np.mean([apk(a,p,k) for a,p in zip(actual, predicted)])\n",
    "\n",
    "\n",
    "def mean_average_precision_at_k(ground_truth, sorted_indices, k):\n",
    "    \"\"\"\n",
    "    Calculate MAP@k for cases with a single ground truth per query.\n",
    "    Skip queries with NaN ground truth.\n",
    "\n",
    "    Parameters:\n",
    "    - ground_truth: A list where each entry is a single relevant item ID or NaN.\n",
    "    - sorted_indices: A list of lists, where each inner list contains sorted retrieved item IDs for a query.\n",
    "    - k: The cutoff value for the top-k retrieved items.\n",
    "\n",
    "    Returns:\n",
    "    - MAP@k across valid queries.\n",
    "    \"\"\"\n",
    "    valid_aps = []\n",
    "\n",
    "    for gt, retrieved in zip(ground_truth, sorted_indices):\n",
    "        # if not np.isnan(gt):\n",
    "        if pd.notna(gt):\n",
    "            # Get first k predictions\n",
    "            retrieved_at_k = retrieved[:k]\n",
    "            # Find where the ground truth appears in the top k predictions\n",
    "            gt_positions = np.where(retrieved_at_k == gt)[0]\n",
    "            if len(gt_positions) > 0:\n",
    "                # Add 1 because position is 0-based\n",
    "                rank = gt_positions[0] + 1\n",
    "                valid_aps.append(1 / rank)\n",
    "            else:\n",
    "                valid_aps.append(0)\n",
    "    print(valid_aps)\n",
    "    return np.mean(valid_aps) if valid_aps else np.nan\n",
    "\n",
    "def recall_at_k(ground_truth, predicted_indices, k=25):\n",
    "    \"\"\"\n",
    "    Calculate Recall@k for cases with a single ground truth per query.\n",
    "    Skip queries with NaN ground truth.\n",
    "\n",
    "    Parameters:\n",
    "    - ground_truth: A list where each entry is a single relevant item ID or NaN.\n",
    "    - sorted_indices: A list of lists, where each inner list contains sorted retrieved item IDs for a query.\n",
    "    - k: The cutoff value for the top-k retrieved items.\n",
    "\n",
    "    Returns:\n",
    "    - Average Recall@k across valid queries.\n",
    "    \"\"\"\n",
    "    valid_recalls = []\n",
    "\n",
    "    for gt, retrieved in zip(ground_truth, predicted_indices):\n",
    "        # if not np.isnan(gt):\n",
    "        if pd.notna(gt):\n",
    "            if gt in retrieved[:k]:\n",
    "                valid_recalls.append(1)\n",
    "            else:\n",
    "                valid_recalls.append(0)\n",
    "\n",
    "    return np.mean(valid_recalls) if valid_recalls else np.nan"
   ]
  },
  {
   "cell_type": "code",
   "execution_count": 42,
   "metadata": {},
   "outputs": [
    {
     "name": "stdout",
     "output_type": "stream",
     "text": [
      "[np.float64(0.5), np.float64(0.3333333333333333), np.float64(0.25)]\n"
     ]
    },
    {
     "data": {
      "text/plain": [
       "np.float64(0.3611111111111111)"
      ]
     },
     "execution_count": 42,
     "metadata": {},
     "output_type": "execute_result"
    }
   ],
   "source": [
    "correct_ids = [np.nan, 2.0, 3.0, 4.0]\n",
    "predicted_ids = np.array([\n",
    "    [2, 3, 4, 5],\n",
    "    [1, 2, 3, 4],\n",
    "    [1, 2, 3, 4],\n",
    "    [1, 2, 3, 4],\n",
    "])\n",
    "mean_average_precision_at_k(correct_ids, np.array(predicted_ids), k=4)\n",
    "\n",
    "# mapk([[id] for id in correct_ids], predicted_ids, 4)"
   ]
  },
  {
   "cell_type": "code",
   "execution_count": 43,
   "metadata": {},
   "outputs": [
    {
     "name": "stdout",
     "output_type": "stream",
     "text": [
      "[0.0, 0.5, 0.3333333333333333, 0.25]\n"
     ]
    },
    {
     "data": {
      "text/plain": [
       "np.float64(0.2708333333333333)"
      ]
     },
     "execution_count": 43,
     "metadata": {},
     "output_type": "execute_result"
    }
   ],
   "source": [
    "mapk([[id] for id in correct_ids], predicted_ids, 4)"
   ]
  },
  {
   "cell_type": "code",
   "execution_count": 33,
   "metadata": {},
   "outputs": [
    {
     "name": "stdout",
     "output_type": "stream",
     "text": [
      "[0, np.float64(0.5), np.float64(0.3333333333333333), np.float64(0.25)]\n"
     ]
    },
    {
     "data": {
      "text/plain": [
       "np.float64(0.2708333333333333)"
      ]
     },
     "execution_count": 33,
     "metadata": {},
     "output_type": "execute_result"
    }
   ],
   "source": [
    "mean_average_precision_at_k(correct_ids, np.array(predicted_ids), k=4)\n"
   ]
  },
  {
   "cell_type": "code",
   "execution_count": 9,
   "metadata": {},
   "outputs": [],
   "source": [
    "import gc\n",
    "gc.collect()\n",
    "torch.cuda.empty_cache()"
   ]
  },
  {
   "cell_type": "code",
   "execution_count": 11,
   "metadata": {},
   "outputs": [
    {
     "name": "stdout",
     "output_type": "stream",
     "text": [
      "Wed Dec  4 20:10:14 2024       \n",
      "+-----------------------------------------------------------------------------------------+\n",
      "| NVIDIA-SMI 550.67                 Driver Version: 550.67         CUDA Version: 12.4     |\n",
      "|-----------------------------------------+------------------------+----------------------+\n",
      "| GPU  Name                 Persistence-M | Bus-Id          Disp.A | Volatile Uncorr. ECC |\n",
      "| Fan  Temp   Perf          Pwr:Usage/Cap |           Memory-Usage | GPU-Util  Compute M. |\n",
      "|                                         |                        |               MIG M. |\n",
      "|=========================================+========================+======================|\n",
      "|   0  NVIDIA GeForce RTX 3090        On  |   00000000:0A:00.0 Off |                  N/A |\n",
      "| 30%   30C    P8             20W /  350W |   24220MiB /  24576MiB |      0%      Default |\n",
      "|                                         |                        |                  N/A |\n",
      "+-----------------------------------------+------------------------+----------------------+\n",
      "                                                                                         \n",
      "+-----------------------------------------------------------------------------------------+\n",
      "| Processes:                                                                              |\n",
      "|  GPU   GI   CI        PID   Type   Process name                              GPU Memory |\n",
      "|        ID   ID                                                               Usage      |\n",
      "|=========================================================================================|\n",
      "+-----------------------------------------------------------------------------------------+\n"
     ]
    },
    {
     "name": "stderr",
     "output_type": "stream",
     "text": [
      "huggingface/tokenizers: The current process just got forked, after parallelism has already been used. Disabling parallelism to avoid deadlocks...\n",
      "To disable this warning, you can either:\n",
      "\t- Avoid using `tokenizers` before the fork if possible\n",
      "\t- Explicitly set the environment variable TOKENIZERS_PARALLELISM=(true | false)\n"
     ]
    }
   ],
   "source": [
    "!nvidia-smi"
   ]
  },
  {
   "cell_type": "code",
   "execution_count": 1,
   "metadata": {},
   "outputs": [
    {
     "name": "stderr",
     "output_type": "stream",
     "text": [
      "/root/miniconda3/envs/kaggle_nlp/lib/python3.10/site-packages/tqdm/auto.py:21: TqdmWarning: IProgress not found. Please update jupyter and ipywidgets. See https://ipywidgets.readthedocs.io/en/stable/user_install.html\n",
      "  from .autonotebook import tqdm as notebook_tqdm\n"
     ]
    },
    {
     "name": "stderr",
     "output_type": "stream",
     "text": [
      "Loading checkpoint shards: 100%|██████████| 3/3 [00:00<00:00,  9.23it/s]\n"
     ]
    },
    {
     "data": {
      "text/plain": [
       "MistralModel(\n",
       "  (embed_tokens): Embedding(32003, 4096)\n",
       "  (layers): ModuleList(\n",
       "    (0-31): 32 x MistralDecoderLayer(\n",
       "      (self_attn): MistralSdpaAttention(\n",
       "        (q_proj): Linear(in_features=4096, out_features=4096, bias=False)\n",
       "        (k_proj): Linear(in_features=4096, out_features=1024, bias=False)\n",
       "        (v_proj): Linear(in_features=4096, out_features=1024, bias=False)\n",
       "        (o_proj): Linear(in_features=4096, out_features=4096, bias=False)\n",
       "        (rotary_emb): MistralRotaryEmbedding()\n",
       "      )\n",
       "      (mlp): MistralMLP(\n",
       "        (gate_proj): Linear(in_features=4096, out_features=14336, bias=False)\n",
       "        (up_proj): Linear(in_features=4096, out_features=14336, bias=False)\n",
       "        (down_proj): Linear(in_features=14336, out_features=4096, bias=False)\n",
       "        (act_fn): SiLU()\n",
       "      )\n",
       "      (input_layernorm): MistralRMSNorm((4096,), eps=1e-05)\n",
       "      (post_attention_layernorm): MistralRMSNorm((4096,), eps=1e-05)\n",
       "    )\n",
       "  )\n",
       "  (norm): MistralRMSNorm((4096,), eps=1e-05)\n",
       ")"
      ]
     },
     "execution_count": 1,
     "metadata": {},
     "output_type": "execute_result"
    }
   ],
   "source": [
    "from transformers import AutoTokenizer, AutoModel\n",
    "import torch\n",
    "tokenizer = AutoTokenizer.from_pretrained(\"BAAI/bge-en-icl\")\n",
    "model = AutoModel.from_pretrained(\"BAAI/bge-en-icl\")\n",
    "device = 'cuda:0' if torch.cuda.is_available() else 'cpu'\n",
    "model.half()\n",
    "model.to(device)\n",
    "model.eval()\n",
    "\n"
   ]
  },
  {
   "cell_type": "code",
   "execution_count": 4,
   "metadata": {},
   "outputs": [],
   "source": [
    "txt = 'Mo salah is a football player'\n",
    "with torch.no_grad():\n",
    "    ids = tokenizer(txt, padding=True, truncation=True,\n",
    "                             return_tensors=\"pt\")\n",
    "    ids = {k: v.to(device) for k, v in ids.items()}\n",
    "    outputs = model(**ids)"
   ]
  },
  {
   "cell_type": "code",
   "execution_count": 11,
   "metadata": {},
   "outputs": [],
   "source": [
    "import pandas as pd\n",
    "raw_data = pd.read_csv('./raw_data/train.csv')"
   ]
  },
  {
   "cell_type": "code",
   "execution_count": 12,
   "metadata": {},
   "outputs": [
    {
     "data": {
      "text/plain": [
       "((1496, 15), (373, 15))"
      ]
     },
     "execution_count": 12,
     "metadata": {},
     "output_type": "execute_result"
    }
   ],
   "source": [
    "# split 1\n",
    "question_ids = sorted(raw_data[\"QuestionId\"].unique())\n",
    "val_size = int(len(question_ids) * 0.2)\n",
    "val_question_ids_1 = question_ids[-val_size:]\n",
    "train_question_ids_1 = question_ids[:-val_size]\n",
    "\n",
    "train_data_1 = raw_data[raw_data[\"QuestionId\"].isin(train_question_ids_1)]\n",
    "val_data_1 = raw_data[raw_data[\"QuestionId\"].isin(val_question_ids_1)]\n",
    "train_data_1.shape, val_data_1.shape"
   ]
  },
  {
   "cell_type": "code",
   "execution_count": 15,
   "metadata": {},
   "outputs": [
    {
     "data": {
      "text/html": [
       "<div>\n",
       "<style scoped>\n",
       "    .dataframe tbody tr th:only-of-type {\n",
       "        vertical-align: middle;\n",
       "    }\n",
       "\n",
       "    .dataframe tbody tr th {\n",
       "        vertical-align: top;\n",
       "    }\n",
       "\n",
       "    .dataframe thead th {\n",
       "        text-align: right;\n",
       "    }\n",
       "</style>\n",
       "<table border=\"1\" class=\"dataframe\">\n",
       "  <thead>\n",
       "    <tr style=\"text-align: right;\">\n",
       "      <th></th>\n",
       "      <th>QuestionId</th>\n",
       "      <th>ConstructId</th>\n",
       "      <th>ConstructName</th>\n",
       "      <th>SubjectId</th>\n",
       "      <th>SubjectName</th>\n",
       "      <th>CorrectAnswer</th>\n",
       "      <th>QuestionText</th>\n",
       "      <th>AnswerAText</th>\n",
       "      <th>AnswerBText</th>\n",
       "      <th>AnswerCText</th>\n",
       "      <th>AnswerDText</th>\n",
       "      <th>MisconceptionAId</th>\n",
       "      <th>MisconceptionBId</th>\n",
       "      <th>MisconceptionCId</th>\n",
       "      <th>MisconceptionDId</th>\n",
       "    </tr>\n",
       "  </thead>\n",
       "  <tbody>\n",
       "    <tr>\n",
       "      <th>0</th>\n",
       "      <td>0</td>\n",
       "      <td>856</td>\n",
       "      <td>Use the order of operations to carry out calcu...</td>\n",
       "      <td>33</td>\n",
       "      <td>BIDMAS</td>\n",
       "      <td>A</td>\n",
       "      <td>\\[\\n3 \\times 2+4-5\\n\\]\\nWhere do the brackets ...</td>\n",
       "      <td>\\( 3 \\times(2+4)-5 \\)</td>\n",
       "      <td>\\( 3 \\times 2+(4-5) \\)</td>\n",
       "      <td>\\( 3 \\times(2+4-5) \\)</td>\n",
       "      <td>Does not need brackets</td>\n",
       "      <td>NaN</td>\n",
       "      <td>NaN</td>\n",
       "      <td>NaN</td>\n",
       "      <td>1672.0</td>\n",
       "    </tr>\n",
       "    <tr>\n",
       "      <th>1</th>\n",
       "      <td>1</td>\n",
       "      <td>1612</td>\n",
       "      <td>Simplify an algebraic fraction by factorising ...</td>\n",
       "      <td>1077</td>\n",
       "      <td>Simplifying Algebraic Fractions</td>\n",
       "      <td>D</td>\n",
       "      <td>Simplify the following, if possible: \\( \\frac{...</td>\n",
       "      <td>\\( m+1 \\)</td>\n",
       "      <td>\\( m+2 \\)</td>\n",
       "      <td>\\( m-1 \\)</td>\n",
       "      <td>Does not simplify</td>\n",
       "      <td>2142.0</td>\n",
       "      <td>143.0</td>\n",
       "      <td>2142.0</td>\n",
       "      <td>NaN</td>\n",
       "    </tr>\n",
       "    <tr>\n",
       "      <th>2</th>\n",
       "      <td>2</td>\n",
       "      <td>2774</td>\n",
       "      <td>Calculate the range from a list of data</td>\n",
       "      <td>339</td>\n",
       "      <td>Range and Interquartile Range from a List of Data</td>\n",
       "      <td>B</td>\n",
       "      <td>Tom and Katie are discussing the \\( 5 \\) plant...</td>\n",
       "      <td>Only\\nTom</td>\n",
       "      <td>Only\\nKatie</td>\n",
       "      <td>Both Tom and Katie</td>\n",
       "      <td>Neither is correct</td>\n",
       "      <td>1287.0</td>\n",
       "      <td>NaN</td>\n",
       "      <td>1287.0</td>\n",
       "      <td>1073.0</td>\n",
       "    </tr>\n",
       "    <tr>\n",
       "      <th>3</th>\n",
       "      <td>3</td>\n",
       "      <td>2377</td>\n",
       "      <td>Recall and use the intersecting diagonals prop...</td>\n",
       "      <td>88</td>\n",
       "      <td>Properties of Quadrilaterals</td>\n",
       "      <td>C</td>\n",
       "      <td>The angles highlighted on this rectangle with ...</td>\n",
       "      <td>acute</td>\n",
       "      <td>obtuse</td>\n",
       "      <td>\\( 90^{\\circ} \\)</td>\n",
       "      <td>Not enough information</td>\n",
       "      <td>1180.0</td>\n",
       "      <td>1180.0</td>\n",
       "      <td>NaN</td>\n",
       "      <td>1180.0</td>\n",
       "    </tr>\n",
       "    <tr>\n",
       "      <th>4</th>\n",
       "      <td>4</td>\n",
       "      <td>3387</td>\n",
       "      <td>Substitute positive integer values into formul...</td>\n",
       "      <td>67</td>\n",
       "      <td>Substitution into Formula</td>\n",
       "      <td>A</td>\n",
       "      <td>The equation \\( f=3 r^{2}+3 \\) is used to find...</td>\n",
       "      <td>\\( 30 \\)</td>\n",
       "      <td>\\( 27 \\)</td>\n",
       "      <td>\\( 51 \\)</td>\n",
       "      <td>\\( 24 \\)</td>\n",
       "      <td>NaN</td>\n",
       "      <td>NaN</td>\n",
       "      <td>NaN</td>\n",
       "      <td>1818.0</td>\n",
       "    </tr>\n",
       "  </tbody>\n",
       "</table>\n",
       "</div>"
      ],
      "text/plain": [
       "   QuestionId  ConstructId                                      ConstructName  \\\n",
       "0           0          856  Use the order of operations to carry out calcu...   \n",
       "1           1         1612  Simplify an algebraic fraction by factorising ...   \n",
       "2           2         2774            Calculate the range from a list of data   \n",
       "3           3         2377  Recall and use the intersecting diagonals prop...   \n",
       "4           4         3387  Substitute positive integer values into formul...   \n",
       "\n",
       "   SubjectId                                        SubjectName CorrectAnswer  \\\n",
       "0         33                                             BIDMAS             A   \n",
       "1       1077                    Simplifying Algebraic Fractions             D   \n",
       "2        339  Range and Interquartile Range from a List of Data             B   \n",
       "3         88                       Properties of Quadrilaterals             C   \n",
       "4         67                          Substitution into Formula             A   \n",
       "\n",
       "                                        QuestionText            AnswerAText  \\\n",
       "0  \\[\\n3 \\times 2+4-5\\n\\]\\nWhere do the brackets ...  \\( 3 \\times(2+4)-5 \\)   \n",
       "1  Simplify the following, if possible: \\( \\frac{...              \\( m+1 \\)   \n",
       "2  Tom and Katie are discussing the \\( 5 \\) plant...              Only\\nTom   \n",
       "3  The angles highlighted on this rectangle with ...                  acute   \n",
       "4  The equation \\( f=3 r^{2}+3 \\) is used to find...               \\( 30 \\)   \n",
       "\n",
       "              AnswerBText            AnswerCText             AnswerDText  \\\n",
       "0  \\( 3 \\times 2+(4-5) \\)  \\( 3 \\times(2+4-5) \\)  Does not need brackets   \n",
       "1               \\( m+2 \\)              \\( m-1 \\)       Does not simplify   \n",
       "2             Only\\nKatie     Both Tom and Katie      Neither is correct   \n",
       "3                  obtuse       \\( 90^{\\circ} \\)  Not enough information   \n",
       "4                \\( 27 \\)               \\( 51 \\)                \\( 24 \\)   \n",
       "\n",
       "   MisconceptionAId  MisconceptionBId  MisconceptionCId  MisconceptionDId  \n",
       "0               NaN               NaN               NaN            1672.0  \n",
       "1            2142.0             143.0            2142.0               NaN  \n",
       "2            1287.0               NaN            1287.0            1073.0  \n",
       "3            1180.0            1180.0               NaN            1180.0  \n",
       "4               NaN               NaN               NaN            1818.0  "
      ]
     },
     "execution_count": 15,
     "metadata": {},
     "output_type": "execute_result"
    }
   ],
   "source": [
    "train_data_1.head()"
   ]
  },
  {
   "cell_type": "code",
   "execution_count": 14,
   "metadata": {},
   "outputs": [
    {
     "data": {
      "text/plain": [
       "((1496, 15), (373, 15))"
      ]
     },
     "execution_count": 14,
     "metadata": {},
     "output_type": "execute_result"
    }
   ],
   "source": [
    "# split 2\n",
    "import numpy as np\n",
    "np.random.seed(42)\n",
    "question_ids = sorted(raw_data[\"QuestionId\"].unique())\n",
    "val_question_ids_2 = np.random.choice(question_ids, int(len(question_ids) * 0.2), replace=False)\n",
    "\n",
    "train_data_2 = raw_data[~raw_data[\"QuestionId\"].isin(val_question_ids_2)]\n",
    "val_data_2 = raw_data[raw_data[\"QuestionId\"].isin(val_question_ids_2)]\n",
    "train_data_2.shape, val_data_2.shape"
   ]
  },
  {
   "cell_type": "code",
   "execution_count": 18,
   "metadata": {},
   "outputs": [
    {
     "data": {
      "text/plain": [
       "array([1700, 1488,  921,  275,  416, 1654,  247,  383,  322,  203,  873,\n",
       "       1111, 1302,  352, 1376,  575, 1345,  479,  942, 1660,  305,  514,\n",
       "       1189, 1501,  529,  620, 1749,  366, 1811, 1105,  764,  394, 1790,\n",
       "        464, 1054,  946, 1497, 1859, 1107, 1607,  806,  111,  582, 1033,\n",
       "       1339,  298,  879, 1843, 1206,  887, 1272, 1170,  297, 1712, 1085,\n",
       "        544, 1791, 1619, 1244,   65, 1204,  462, 1318, 1569,  239,  188,\n",
       "       1847,   29, 1335, 1288,  759, 1160, 1544,  398,  836,  109,  637,\n",
       "       1258, 1161,  932,  705,  617,  799, 1061,  432, 1110, 1142,  619,\n",
       "        706,  425, 1797,  591,  495, 1290, 1737,  727,  196,  344,  135,\n",
       "        218,  270,  433, 1190, 1765, 1005, 1387,  526,  237,  818,  943,\n",
       "        450,  707,  598, 1348, 1549, 1247,  930,  422, 1236, 1726, 1221,\n",
       "        254, 1087, 1309, 1573,  307,   70, 1667,  324, 1594, 1381,  611,\n",
       "        570, 1036,  561, 1713, 1458, 1168,  631,  212,   23,  289,   63,\n",
       "        869,  534, 1674, 1546, 1440, 1089, 1245,  916,  471, 1178, 1809,\n",
       "       1507, 1627, 1361,  535, 1073,  654,  669, 1574,  115,  817,  917,\n",
       "       1703,  576, 1355,  231, 1118, 1803, 1431, 1665,  173, 1391,  251,\n",
       "        914, 1551,  936,  990,   32, 1253,  233, 1004,  124,  680,  163,\n",
       "       1472,  628,  414,   49,  303,  903, 1163, 1652, 1446,  342, 1417,\n",
       "        941,  781, 1621,  670,  382,  429,  754, 1834,  788,   78,   59,\n",
       "       1230, 1323,   73,  367, 1801,  210,   69,  162,  583,  599,  962,\n",
       "       1000,  888,  693,  485, 1242,  519, 1320, 1023, 1808, 1223, 1545,\n",
       "       1447,  701,  220,   76, 1787, 1563,   99,  420,  413,  618,  527,\n",
       "        849, 1856,  306, 1055, 1531,  862,   30,  331, 1556, 1182, 1516,\n",
       "        552, 1113,  427, 1581, 1452, 1469,  351, 1475,   44,  168, 1668,\n",
       "        733, 1795, 1029,  585, 1819,  361,  557,  415,  771, 1640,  185,\n",
       "       1506, 1448,  497,  998,  679, 1825, 1273,  855, 1466, 1805, 1509,\n",
       "        123, 1603,  889,  494, 1193,  316, 1370, 1424,  194,  486, 1442,\n",
       "       1606, 1120,  266,  408,   67, 1100,  596, 1822, 1701, 1317, 1657,\n",
       "        820,  782,  745,  614,  350,  867, 1647, 1481, 1555,  365,  787,\n",
       "       1301,  607, 1526, 1316,  261, 1043,  240,  994,  610,  677, 1007,\n",
       "        465, 1366, 1144, 1646,  506,   71, 1764,  259,   51, 1091,  931,\n",
       "        813,  332, 1268,  752,  354,  584,  864,  792, 1723, 1289, 1693,\n",
       "        518, 1068, 1845,  590,  857,  192,  538, 1642, 1022, 1343, 1460,\n",
       "        141, 1823, 1121, 1746,  339,  555,  439, 1296,  374,  271])"
      ]
     },
     "execution_count": 18,
     "metadata": {},
     "output_type": "execute_result"
    }
   ],
   "source": [
    "val_question_ids_2"
   ]
  },
  {
   "cell_type": "code",
   "execution_count": 33,
   "metadata": {},
   "outputs": [
    {
     "data": {
      "text/plain": [
       "0"
      ]
     },
     "execution_count": 33,
     "metadata": {},
     "output_type": "execute_result"
    }
   ],
   "source": [
    "# set of subject id in train_data_1 and val_data_1\n",
    "len(set(train_data_1[\"QuestionId\"].unique()) & set(val_data_1[\"QuestionId\"].unique()))"
   ]
  },
  {
   "cell_type": "code",
   "execution_count": 29,
   "metadata": {},
   "outputs": [
    {
     "data": {
      "text/plain": [
       "0"
      ]
     },
     "execution_count": 29,
     "metadata": {},
     "output_type": "execute_result"
    }
   ],
   "source": [
    "# set of subject id in train_data_2 and val_data_2\n",
    "len(set(train_data_2[\"QuestionId\"].unique()) & set(val_data_2[\"QuestionId\"].unique()))"
   ]
  },
  {
   "cell_type": "code",
   "execution_count": 20,
   "metadata": {},
   "outputs": [
    {
     "data": {
      "text/html": [
       "<div>\n",
       "<style scoped>\n",
       "    .dataframe tbody tr th:only-of-type {\n",
       "        vertical-align: middle;\n",
       "    }\n",
       "\n",
       "    .dataframe tbody tr th {\n",
       "        vertical-align: top;\n",
       "    }\n",
       "\n",
       "    .dataframe thead th {\n",
       "        text-align: right;\n",
       "    }\n",
       "</style>\n",
       "<table border=\"1\" class=\"dataframe\">\n",
       "  <thead>\n",
       "    <tr style=\"text-align: right;\">\n",
       "      <th></th>\n",
       "      <th>QuestionId</th>\n",
       "      <th>ConstructId</th>\n",
       "      <th>ConstructName</th>\n",
       "      <th>SubjectId</th>\n",
       "      <th>SubjectName</th>\n",
       "      <th>CorrectAnswer</th>\n",
       "      <th>QuestionText</th>\n",
       "      <th>AnswerAText</th>\n",
       "      <th>AnswerBText</th>\n",
       "      <th>AnswerCText</th>\n",
       "      <th>AnswerDText</th>\n",
       "      <th>MisconceptionAId</th>\n",
       "      <th>MisconceptionBId</th>\n",
       "      <th>MisconceptionCId</th>\n",
       "      <th>MisconceptionDId</th>\n",
       "    </tr>\n",
       "  </thead>\n",
       "  <tbody>\n",
       "    <tr>\n",
       "      <th>23</th>\n",
       "      <td>23</td>\n",
       "      <td>2742</td>\n",
       "      <td>Interpret sloping linear sections of a displac...</td>\n",
       "      <td>58</td>\n",
       "      <td>Real Life Graphs</td>\n",
       "      <td>A</td>\n",
       "      <td>This graph shows how far Fido the dog is from ...</td>\n",
       "      <td>Fido is walking home</td>\n",
       "      <td>Fido has fallen asleep</td>\n",
       "      <td>Fido is accelerating</td>\n",
       "      <td>Fido is walking away from home</td>\n",
       "      <td>NaN</td>\n",
       "      <td>2492.0</td>\n",
       "      <td>2032.0</td>\n",
       "      <td>2437.0</td>\n",
       "    </tr>\n",
       "    <tr>\n",
       "      <th>29</th>\n",
       "      <td>29</td>\n",
       "      <td>1045</td>\n",
       "      <td>Solve linear inequalities in one variable wher...</td>\n",
       "      <td>166</td>\n",
       "      <td>Solving Linear Inequalities</td>\n",
       "      <td>B</td>\n",
       "      <td>Solve\\n\\[\\n2 n+3 \\leq 3 n-7\\n\\]</td>\n",
       "      <td>\\( 2 \\leq n \\)</td>\n",
       "      <td>\\( 10 \\leq n \\)</td>\n",
       "      <td>\\( n \\leq 10 \\)</td>\n",
       "      <td>\\( -4 \\leq n \\)</td>\n",
       "      <td>1214.0</td>\n",
       "      <td>NaN</td>\n",
       "      <td>811.0</td>\n",
       "      <td>1214.0</td>\n",
       "    </tr>\n",
       "    <tr>\n",
       "      <th>30</th>\n",
       "      <td>30</td>\n",
       "      <td>3515</td>\n",
       "      <td>Determine the function of a single function ma...</td>\n",
       "      <td>649</td>\n",
       "      <td>Function Machines</td>\n",
       "      <td>A</td>\n",
       "      <td>Tom and Katie are discussing this function mac...</td>\n",
       "      <td>Only\\nTom</td>\n",
       "      <td>Only Katie</td>\n",
       "      <td>Both Tom and Katie</td>\n",
       "      <td>Neither is correct</td>\n",
       "      <td>NaN</td>\n",
       "      <td>NaN</td>\n",
       "      <td>220.0</td>\n",
       "      <td>NaN</td>\n",
       "    </tr>\n",
       "    <tr>\n",
       "      <th>32</th>\n",
       "      <td>32</td>\n",
       "      <td>1484</td>\n",
       "      <td>Solve linear equations with the variable appea...</td>\n",
       "      <td>64</td>\n",
       "      <td>Linear Equations</td>\n",
       "      <td>D</td>\n",
       "      <td>Which of the following is a correct first step...</td>\n",
       "      <td>\\( \\frac{2 r}{5}=5+r \\)</td>\n",
       "      <td>\\( 10 r-15=10+5 r \\)</td>\n",
       "      <td>\\( 2 r-3=10+r \\)</td>\n",
       "      <td>\\( 2 r-3=10+5 r \\)</td>\n",
       "      <td>1566.0</td>\n",
       "      <td>98.0</td>\n",
       "      <td>347.0</td>\n",
       "      <td>NaN</td>\n",
       "    </tr>\n",
       "    <tr>\n",
       "      <th>44</th>\n",
       "      <td>44</td>\n",
       "      <td>2440</td>\n",
       "      <td>Identify a right-angled triangle when presente...</td>\n",
       "      <td>175</td>\n",
       "      <td>Properties of Triangles</td>\n",
       "      <td>C</td>\n",
       "      <td>\\( A B C D \\) is a rectangle.\\nWhat type of tr...</td>\n",
       "      <td>Scalene</td>\n",
       "      <td>Isosceles</td>\n",
       "      <td>Right-angled</td>\n",
       "      <td>Equilateral</td>\n",
       "      <td>646.0</td>\n",
       "      <td>1970.0</td>\n",
       "      <td>NaN</td>\n",
       "      <td>1970.0</td>\n",
       "    </tr>\n",
       "  </tbody>\n",
       "</table>\n",
       "</div>"
      ],
      "text/plain": [
       "    QuestionId  ConstructId  \\\n",
       "23          23         2742   \n",
       "29          29         1045   \n",
       "30          30         3515   \n",
       "32          32         1484   \n",
       "44          44         2440   \n",
       "\n",
       "                                        ConstructName  SubjectId  \\\n",
       "23  Interpret sloping linear sections of a displac...         58   \n",
       "29  Solve linear inequalities in one variable wher...        166   \n",
       "30  Determine the function of a single function ma...        649   \n",
       "32  Solve linear equations with the variable appea...         64   \n",
       "44  Identify a right-angled triangle when presente...        175   \n",
       "\n",
       "                    SubjectName CorrectAnswer  \\\n",
       "23             Real Life Graphs             A   \n",
       "29  Solving Linear Inequalities             B   \n",
       "30            Function Machines             A   \n",
       "32             Linear Equations             D   \n",
       "44      Properties of Triangles             C   \n",
       "\n",
       "                                         QuestionText  \\\n",
       "23  This graph shows how far Fido the dog is from ...   \n",
       "29                    Solve\\n\\[\\n2 n+3 \\leq 3 n-7\\n\\]   \n",
       "30  Tom and Katie are discussing this function mac...   \n",
       "32  Which of the following is a correct first step...   \n",
       "44  \\( A B C D \\) is a rectangle.\\nWhat type of tr...   \n",
       "\n",
       "                AnswerAText             AnswerBText           AnswerCText  \\\n",
       "23     Fido is walking home  Fido has fallen asleep  Fido is accelerating   \n",
       "29           \\( 2 \\leq n \\)         \\( 10 \\leq n \\)       \\( n \\leq 10 \\)   \n",
       "30                Only\\nTom              Only Katie    Both Tom and Katie   \n",
       "32  \\( \\frac{2 r}{5}=5+r \\)    \\( 10 r-15=10+5 r \\)      \\( 2 r-3=10+r \\)   \n",
       "44                  Scalene               Isosceles          Right-angled   \n",
       "\n",
       "                       AnswerDText  MisconceptionAId  MisconceptionBId  \\\n",
       "23  Fido is walking away from home               NaN            2492.0   \n",
       "29                 \\( -4 \\leq n \\)            1214.0               NaN   \n",
       "30              Neither is correct               NaN               NaN   \n",
       "32              \\( 2 r-3=10+5 r \\)            1566.0              98.0   \n",
       "44                     Equilateral             646.0            1970.0   \n",
       "\n",
       "    MisconceptionCId  MisconceptionDId  \n",
       "23            2032.0            2437.0  \n",
       "29             811.0            1214.0  \n",
       "30             220.0               NaN  \n",
       "32             347.0               NaN  \n",
       "44               NaN            1970.0  "
      ]
     },
     "execution_count": 20,
     "metadata": {},
     "output_type": "execute_result"
    }
   ],
   "source": [
    "val_data_2.head()"
   ]
  }
 ],
 "metadata": {
  "kernelspec": {
   "display_name": "kaggle_nlp",
   "language": "python",
   "name": "python3"
  },
  "language_info": {
   "codemirror_mode": {
    "name": "ipython",
    "version": 3
   },
   "file_extension": ".py",
   "mimetype": "text/x-python",
   "name": "python",
   "nbconvert_exporter": "python",
   "pygments_lexer": "ipython3",
   "version": "3.10.15"
  }
 },
 "nbformat": 4,
 "nbformat_minor": 2
}
