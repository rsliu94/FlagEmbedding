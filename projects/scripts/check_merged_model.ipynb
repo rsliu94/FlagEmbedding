{
 "cells": [
  {
   "cell_type": "code",
   "execution_count": 1,
   "metadata": {},
   "outputs": [
    {
     "name": "stderr",
     "output_type": "stream",
     "text": [
      "/root/miniconda3/envs/kaggle_nlp/lib/python3.10/site-packages/tqdm/auto.py:21: TqdmWarning: IProgress not found. Please update jupyter and ipywidgets. See https://ipywidgets.readthedocs.io/en/stable/user_install.html\n",
      "  from .autonotebook import tqdm as notebook_tqdm\n",
      "Loading checkpoint shards: 100%|██████████| 6/6 [00:00<00:00,  9.00it/s]\n",
      "Asking to truncate to max_length but no maximum length is provided and the model has no predefined maximum length. Default to no truncation.\n"
     ]
    },
    {
     "name": "stdout",
     "output_type": "stream",
     "text": [
      "BaseModelOutputWithPast(last_hidden_state=tensor([[[-1.4258,  1.0342, -2.1250,  ..., -0.2620, -2.2480,  3.0020],\n",
      "         [ 2.5508, -4.4492, -3.1914,  ..., -2.8965,  8.7344,  4.0977],\n",
      "         [ 3.7617, -4.8633,  2.9727,  ...,  5.4219, -5.5234,  7.2656],\n",
      "         ...,\n",
      "         [-3.0000, -0.8760,  2.4863,  ..., -6.8633, -1.4434,  0.9424],\n",
      "         [-2.7480,  1.1318, -1.0654,  ..., -1.8369,  6.4766,  2.7520],\n",
      "         [-0.4766, -1.7861,  3.1816,  ...,  2.6895,  2.4883,  1.3594]]],\n",
      "       device='cuda:0', dtype=torch.float16), past_key_values=None, hidden_states=None, attentions=None)\n"
     ]
    }
   ],
   "source": [
    "from transformers import AutoTokenizer, AutoModel\n",
    "import torch\n",
    "\n",
    "model_path = '/root/autodl-tmp/github/FlagEmbedding/projects/model_output/icl_finetune_round1/merged_model_lora_epoch_1'\n",
    "tokenizer = AutoTokenizer.from_pretrained(model_path)\n",
    "model = AutoModel.from_pretrained(model_path)\n",
    "\n",
    "device = 'cuda:0' if torch.cuda.is_available() else 'cpu'\n",
    "model.half()\n",
    "model.to(device)\n",
    "model.eval()\n",
    "\n",
    "txt = 'Mo salah is a football player'\n",
    "with torch.no_grad():\n",
    "    ids = tokenizer(txt, padding=True, truncation=True,\n",
    "                             return_tensors=\"pt\")\n",
    "    ids = {k: v.to(device) for k, v in ids.items()}\n",
    "    outputs = model(**ids)\n",
    "    print(outputs)\n",
    "\n",
    "del model, tokenizer\n",
    "import gc\n",
    "gc.collect()\n",
    "torch.cuda.empty_cache()"
   ]
  },
  {
   "cell_type": "code",
   "execution_count": 2,
   "metadata": {},
   "outputs": [
    {
     "name": "stdout",
     "output_type": "stream",
     "text": [
      "Loading LoRA model...\n"
     ]
    },
    {
     "name": "stderr",
     "output_type": "stream",
     "text": [
      "Loading checkpoint shards: 100%|██████████| 3/3 [00:00<00:00,  7.65it/s]\n",
      "Asking to truncate to max_length but no maximum length is provided and the model has no predefined maximum length. Default to no truncation.\n"
     ]
    },
    {
     "name": "stdout",
     "output_type": "stream",
     "text": [
      "BaseModelOutputWithPast(last_hidden_state=tensor([[[-1.4258,  1.0342, -2.1230,  ..., -0.2615, -2.2480,  3.0020],\n",
      "         [ 2.5508, -4.4414, -3.1914,  ..., -2.8984,  8.7500,  4.0938],\n",
      "         [ 3.7656, -4.8477,  2.9668,  ...,  5.4102, -5.5234,  7.2773],\n",
      "         ...,\n",
      "         [-2.9980, -0.8672,  2.4805,  ..., -6.8711, -1.4404,  0.9360],\n",
      "         [-2.7500,  1.1367, -1.0752,  ..., -1.8486,  6.4688,  2.7383],\n",
      "         [-0.4780, -1.7852,  3.1836,  ...,  2.6953,  2.4922,  1.3643]]],\n",
      "       device='cuda:0', dtype=torch.float16), past_key_values=None, hidden_states=None, attentions=None)\n"
     ]
    }
   ],
   "source": [
    "from transformers import AutoTokenizer, AutoModel\n",
    "import torch\n",
    "from peft import PeftModel\n",
    "\n",
    "model_path = 'BAAI/bge-en-icl'\n",
    "lora_path = '/root/autodl-tmp/github/FlagEmbedding/projects/model_output/icl_finetune_round1/lora_epoch_1'\n",
    "\n",
    "print(\"Loading LoRA model...\")\n",
    "tokenizer = AutoTokenizer.from_pretrained(lora_path)\n",
    "model = AutoModel.from_pretrained(model_path, quantization_config=None)\n",
    "model = PeftModel.from_pretrained(model, lora_path, is_trainable=False)\n",
    "\n",
    "device = 'cuda:0' if torch.cuda.is_available() else 'cpu'\n",
    "model.half()\n",
    "model.to(device)\n",
    "model.eval()\n",
    "\n",
    "txt = 'Mo salah is a football player'\n",
    "with torch.no_grad():\n",
    "    ids = tokenizer(txt, padding=True, truncation=True,\n",
    "                             return_tensors=\"pt\")\n",
    "    ids = {k: v.to(device) for k, v in ids.items()}\n",
    "    outputs = model(**ids)\n",
    "    print(outputs)\n",
    "\n",
    "del model, tokenizer\n",
    "import gc\n",
    "gc.collect()\n",
    "torch.cuda.empty_cache()"
   ]
  },
  {
   "cell_type": "code",
   "execution_count": 3,
   "metadata": {},
   "outputs": [
    {
     "name": "stdout",
     "output_type": "stream",
     "text": [
      "Loading base model...\n"
     ]
    },
    {
     "name": "stderr",
     "output_type": "stream",
     "text": [
      "Loading checkpoint shards: 100%|██████████| 3/3 [00:00<00:00,  7.01it/s]\n",
      "Asking to truncate to max_length but no maximum length is provided and the model has no predefined maximum length. Default to no truncation.\n"
     ]
    },
    {
     "name": "stdout",
     "output_type": "stream",
     "text": [
      "BaseModelOutputWithPast(last_hidden_state=tensor([[[-1.3027,  0.8101, -2.0469,  ..., -0.3611, -2.3027,  3.0195],\n",
      "         [ 3.0273, -4.6875, -3.6719,  ..., -2.4082,  9.7422,  5.1719],\n",
      "         [ 5.1914, -5.3438,  4.9180,  ...,  5.4062, -4.8750,  6.8906],\n",
      "         ...,\n",
      "         [-2.6816, -1.9219,  1.9717,  ..., -7.4766, -2.0039,  2.1680],\n",
      "         [-2.8652,  1.4805, -1.3057,  ..., -1.3633,  7.5195,  3.6895],\n",
      "         [-0.5249, -1.6484,  1.2695,  ...,  2.7910,  1.0635,  3.4199]]],\n",
      "       device='cuda:0', dtype=torch.float16), past_key_values=None, hidden_states=None, attentions=None)\n"
     ]
    }
   ],
   "source": [
    "from transformers import AutoTokenizer, AutoModel\n",
    "import torch\n",
    "from peft import PeftModel\n",
    "\n",
    "model_path = 'BAAI/bge-en-icl'\n",
    "\n",
    "print(\"Loading base model...\")\n",
    "tokenizer = AutoTokenizer.from_pretrained(model_path)\n",
    "model = AutoModel.from_pretrained(model_path, quantization_config=None)\n",
    "\n",
    "device = 'cuda:0' if torch.cuda.is_available() else 'cpu'\n",
    "model.half()\n",
    "model.to(device)\n",
    "model.eval()\n",
    "\n",
    "txt = 'Mo salah is a football player'\n",
    "with torch.no_grad():\n",
    "    ids = tokenizer(txt, padding=True, truncation=True,\n",
    "                             return_tensors=\"pt\")\n",
    "    ids = {k: v.to(device) for k, v in ids.items()}\n",
    "    outputs = model(**ids)\n",
    "    print(outputs)\n",
    "\n",
    "del model, tokenizer\n",
    "import gc\n",
    "gc.collect()\n",
    "torch.cuda.empty_cache()"
   ]
  }
 ],
 "metadata": {
  "kernelspec": {
   "display_name": "kaggle_nlp",
   "language": "python",
   "name": "python3"
  },
  "language_info": {
   "codemirror_mode": {
    "name": "ipython",
    "version": 3
   },
   "file_extension": ".py",
   "mimetype": "text/x-python",
   "name": "python",
   "nbconvert_exporter": "python",
   "pygments_lexer": "ipython3",
   "version": "3.10.15"
  }
 },
 "nbformat": 4,
 "nbformat_minor": 2
}
